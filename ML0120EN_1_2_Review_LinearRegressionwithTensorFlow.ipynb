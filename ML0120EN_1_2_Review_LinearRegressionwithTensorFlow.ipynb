{
  "nbformat": 4,
  "nbformat_minor": 0,
  "metadata": {
    "colab": {
      "name": "ML0120EN-1.2-Review-LinearRegressionwithTensorFlow.ipynb",
      "version": "0.3.2",
      "provenance": [],
      "toc_visible": true
    },
    "language_info": {
      "codemirror_mode": {
        "name": "ipython",
        "version": 2
      },
      "file_extension": ".py",
      "mimetype": "text/x-python",
      "name": "python",
      "nbconvert_exporter": "python",
      "pygments_lexer": "ipython2",
      "version": "2.7.13"
    },
    "kernelspec": {
      "display_name": "Python 2",
      "language": "python",
      "name": "python2"
    }
  },
  "cells": [
    {
      "cell_type": "markdown",
      "metadata": {
        "id": "FSuT4-qTGy95",
        "colab_type": "text"
      },
      "source": [
        "<img src = \"https://i.imgur.com/UjutVJd.jpg\" align = \"center\">\n"
      ]
    },
    {
      "cell_type": "markdown",
      "metadata": {
        "id": "MrhKtGKQGy99",
        "colab_type": "text"
      },
      "source": [
        "\n",
        "# <h1>LINEAR REGRESSION WITH TENSORFLOW</h1>\n",
        "In this notebook we will overview the implementation of Linear Regression with TensorFlow\n",
        "\n",
        "# Table of Content\n",
        "- <p><a href=\"#ref1\">Linear Regression</a></p>\n",
        "- <p><a href=\"#ref2\">Linear Regression with TensorFlow</a></p>\n",
        "- <p><a href=\"#ref3\">Practice Exercises</a></p>\n",
        "<p></p>\n",
        "</div>\n",
        "<br>\n",
        "\n",
        "----------------"
      ]
    },
    {
      "cell_type": "markdown",
      "metadata": {
        "id": "WuU_Pj-4Gy-A",
        "colab_type": "text"
      },
      "source": [
        "<a id=\"ref1\"></a>\n",
        "# Linear Regression\n",
        "\n",
        "Defining a linear regression in simple terms, its the approximation of a linear model used to describe the relationship betweeen two or more variables. In a simple linear regression there are two variables, the dependent variable, which can be seen as the \"state\" or \"final goal\" we study and try to predict, and the independent variables, also known as explanatory variables, which can be seen as the \"causes\" of the \"states\". \n",
        "\n",
        "When more than one independent variable is present the process is called multiple linear regression. When multiple dependent variables are predicted the process is known as multivariate linear regression.\n",
        "\n",
        "The very known equation of a simple linear model is\n",
        "\n",
        "$$Y = a X + b $$\n",
        "\n",
        "Where Y is the dependent variable and X is the independent variable, and <b>a</b> and <b>b</b> being the parameters we adjust. <b> a </b> is known as \"slope\" or \"gradient\" and <b> b </b> as \"intercept\". You can interpret this equation as Y being a function of X, or Y being dependent of X.\n",
        "\n",
        "If you plot the model, you will see it is a line, and by adjusting the \"slope\" parameter you will change the angle between the line and the independent variable axis, and the \"intercept parameter\" will affect where it crosses the dependent variable axis.\n",
        "\n",
        "Let's first import packages:"
      ]
    },
    {
      "cell_type": "code",
      "metadata": {
        "id": "iwaqaxV1Gy-D",
        "colab_type": "code",
        "colab": {}
      },
      "source": [
        "import numpy as np\n",
        "import tensorflow as tf\n",
        "import matplotlib.patches as mpatches\n",
        "import matplotlib.pyplot as plt\n",
        "%matplotlib inline\n",
        "plt.rcParams['figure.figsize'] = (10, 6)"
      ],
      "execution_count": 0,
      "outputs": []
    },
    {
      "cell_type": "markdown",
      "metadata": {
        "id": "YYoAOWxQGy-J",
        "colab_type": "text"
      },
      "source": [
        "Let's define an independent variable:"
      ]
    },
    {
      "cell_type": "code",
      "metadata": {
        "id": "Ei-Q8AX7Gy-K",
        "colab_type": "code",
        "outputId": "f5094a6f-773f-4628-e6e6-392f57dfe266",
        "colab": {
          "base_uri": "https://localhost:8080/",
          "height": 91
        }
      },
      "source": [
        "X = np.arange(0.0, 5.0, 0.1)\n",
        "X"
      ],
      "execution_count": 0,
      "outputs": [
        {
          "output_type": "execute_result",
          "data": {
            "text/plain": [
              "array([0. , 0.1, 0.2, 0.3, 0.4, 0.5, 0.6, 0.7, 0.8, 0.9, 1. , 1.1, 1.2,\n",
              "       1.3, 1.4, 1.5, 1.6, 1.7, 1.8, 1.9, 2. , 2.1, 2.2, 2.3, 2.4, 2.5,\n",
              "       2.6, 2.7, 2.8, 2.9, 3. , 3.1, 3.2, 3.3, 3.4, 3.5, 3.6, 3.7, 3.8,\n",
              "       3.9, 4. , 4.1, 4.2, 4.3, 4.4, 4.5, 4.6, 4.7, 4.8, 4.9])"
            ]
          },
          "metadata": {
            "tags": []
          },
          "execution_count": 2
        }
      ]
    },
    {
      "cell_type": "code",
      "metadata": {
        "id": "OBf8AyawGy-N",
        "colab_type": "code",
        "outputId": "30c6b132-220d-4286-ce5c-e715965496a9",
        "colab": {
          "base_uri": "https://localhost:8080/",
          "height": 392
        }
      },
      "source": [
        "##You can adjust the slope and intercept to verify the changes in the graph\n",
        "a=1\n",
        "b=0\n",
        "\n",
        "Y= a*X + b \n",
        "\n",
        "plt.plot(X,Y) \n",
        "plt.ylabel('Dependent Variable')\n",
        "plt.xlabel('Indepdendent Variable')\n",
        "plt.show()"
      ],
      "execution_count": 0,
      "outputs": [
        {
          "output_type": "display_data",
          "data": {
            "image/png": "[encoded data removed]",
            "text/plain": [
              "<Figure size 720x432 with 1 Axes>"
            ]
          },
          "metadata": {
            "tags": []
          }
        }
      ]
    },
    {
      "cell_type": "markdown",
      "metadata": {
        "id": "jxhkJLKkGy-Q",
        "colab_type": "text"
      },
      "source": [
        "OK... but how can we see this concept of linear relations with a more meaningful point of view?\n",
        "\n",
        "Simple linear relations were used to try to describe and quantify many observable physical phenomena, the easiest to understand are speed and distance traveled:"
      ]
    },
    {
      "cell_type": "markdown",
      "metadata": {
        "id": "DOEnCAShGy-S",
        "colab_type": "text"
      },
      "source": [
        "<b><pre>\n",
        "\n",
        "Distance Traveled = Speed * Time + Initial Distance\n",
        "\n",
        "Speed = Acceleration * Time + Initial Speed\n",
        "</pre></b>"
      ]
    },
    {
      "cell_type": "markdown",
      "metadata": {
        "id": "nXBWNAnwGy-T",
        "colab_type": "text"
      },
      "source": [
        "They are also used to describe properties of different materials:"
      ]
    },
    {
      "cell_type": "markdown",
      "metadata": {
        "id": "cULsTrzBGy-U",
        "colab_type": "text"
      },
      "source": [
        "<b><pre>\n",
        "\n",
        "Force = Deformation * Stiffness \n",
        "\n",
        "Heat Transfered = Temperature Difference * Thermal Conductivity \n",
        "\n",
        "Electrical Tension (Voltage) = Electrical Current * Resistance\n",
        "\n",
        "Mass =  Volume * Density\n",
        "</pre></b>"
      ]
    },
    {
      "cell_type": "markdown",
      "metadata": {
        "id": "1-T-jga_Gy-V",
        "colab_type": "text"
      },
      "source": [
        "When we perform an experiment and gather the data, or if we already have a dataset and we want to perform a linear regression, what we will do is adjust a simple linear model to the dataset, we adjust the \"slope\" and \"intercept\" parameters to the data the best way possible, because the closer the model comes to describing each ocurrence, the better it will be at representing them.\n",
        "\n",
        "So how is this \"regression\" performed?"
      ]
    },
    {
      "cell_type": "markdown",
      "metadata": {
        "id": "nshJBycaGy-W",
        "colab_type": "text"
      },
      "source": [
        "---------------"
      ]
    },
    {
      "cell_type": "markdown",
      "metadata": {
        "id": "d7zk0Ic5Gy-X",
        "colab_type": "text"
      },
      "source": [
        "<a id=\"ref2\"></a>\n",
        "# Linear Regression with TensorFlow\n",
        "<h3>A simple example of a linear function can help us understand the basic mechanism behind TensorFlow. </h3>\n",
        "\n",
        "For the first part we will generate random data points and define a linear relation, we'll use TensorFlow to adjust and get the right parameters.\n"
      ]
    },
    {
      "cell_type": "code",
      "metadata": {
        "id": "f5vM_9c5Gy-Y",
        "colab_type": "code",
        "colab": {}
      },
      "source": [
        "x_data = np.random.rand(100).astype(np.float32)"
      ],
      "execution_count": 0,
      "outputs": []
    },
    {
      "cell_type": "markdown",
      "metadata": {
        "id": "orb5jkGEGy-c",
        "colab_type": "text"
      },
      "source": [
        "The equation for the model used in this example is :\n",
        "\n",
        "$$Y = 3 X + 2 $$\n",
        "\n",
        "\n",
        "Nothing special about this equation, it is just a model that we use to generate our data points. In fact, you can change the parameters to whatever you want, as you will do later. We add some gaussian noise to the points to make it a bit more interesting."
      ]
    },
    {
      "cell_type": "code",
      "metadata": {
        "id": "wb65JQRxGy-d",
        "colab_type": "code",
        "colab": {}
      },
      "source": [
        "y_data = x_data * 3 + 2\n",
        "y_data = np.vectorize(lambda y: y + np.random.normal(loc=0.0, scale=0.1))(y_data)"
      ],
      "execution_count": 0,
      "outputs": []
    },
    {
      "cell_type": "markdown",
      "metadata": {
        "id": "KdYQgWnlGy-g",
        "colab_type": "text"
      },
      "source": [
        "Here is a sample of data:"
      ]
    },
    {
      "cell_type": "code",
      "metadata": {
        "scrolled": true,
        "id": "TbdqnewHGy-h",
        "colab_type": "code",
        "outputId": "ea0c520c-d6f2-4be8-ef4e-64d7530b21e0",
        "colab": {
          "base_uri": "https://localhost:8080/",
          "height": 109
        }
      },
      "source": [
        "zip(x_data,y_data) [0:5]"
      ],
      "execution_count": 0,
      "outputs": [
        {
          "output_type": "execute_result",
          "data": {
            "text/plain": [
              "[(0.88087785, 4.758331540531889),\n",
              " (0.23672032, 2.5558566147409194),\n",
              " (0.0045886957, 1.935310715711862),\n",
              " (0.5082739, 3.52804185463655),\n",
              " (0.26334015, 2.7064940627455436)]"
            ]
          },
          "metadata": {
            "tags": []
          },
          "execution_count": 6
        }
      ]
    },
    {
      "cell_type": "markdown",
      "metadata": {
        "id": "ok5eA15FGy-l",
        "colab_type": "text"
      },
      "source": [
        "First, we initialize the variables __a__ and __b__, with any random guess, and then we define the linear function:"
      ]
    },
    {
      "cell_type": "code",
      "metadata": {
        "id": "3ARqa2a2Gy-m",
        "colab_type": "code",
        "colab": {}
      },
      "source": [
        "a = tf.Variable(1.0)\n",
        "b = tf.Variable(0.2)\n",
        "y = a * x_data + b"
      ],
      "execution_count": 0,
      "outputs": []
    },
    {
      "cell_type": "markdown",
      "metadata": {
        "id": "VXe0QAWhGy-p",
        "colab_type": "text"
      },
      "source": [
        "In a linear regression, we minimize the squared error of the equation that we want to adjust minus the target values (the data that we have), so we define the equation to be minimized as loss.\n",
        "\n",
        "To find Loss's value, we use __tf.reduce_mean()__. This function finds the mean of a multidimensional tensor, and the result can have a diferent dimension."
      ]
    },
    {
      "cell_type": "code",
      "metadata": {
        "id": "Qb9Vi9ESGy-q",
        "colab_type": "code",
        "colab": {}
      },
      "source": [
        "loss = tf.reduce_mean(tf.square(y - y_data))"
      ],
      "execution_count": 0,
      "outputs": []
    },
    {
      "cell_type": "markdown",
      "metadata": {
        "id": "G9mlpcWbGy-u",
        "colab_type": "text"
      },
      "source": [
        "Then, we define the optimizer method. Here we will use a simple gradient descent with a learning rate of 0.5: <br/>  \n",
        "Now we will define the training method of our graph, what method we will use for minimize the loss? We will use the tf.train.GradientDescentOptimizer.  \n",
        ".minimize()__ will minimize the error function of our optimizer, resulting in a better model."
      ]
    },
    {
      "cell_type": "code",
      "metadata": {
        "id": "jTcBwVMPGy-v",
        "colab_type": "code",
        "colab": {}
      },
      "source": [
        "optimizer = tf.train.GradientDescentOptimizer(0.5)\n",
        "train = optimizer.minimize(loss)"
      ],
      "execution_count": 0,
      "outputs": []
    },
    {
      "cell_type": "markdown",
      "metadata": {
        "id": "k7j-yB9dGy-y",
        "colab_type": "text"
      },
      "source": [
        "Don't forget to initialize the variables before executing a graph:"
      ]
    },
    {
      "cell_type": "code",
      "metadata": {
        "id": "115bcBdLGy-z",
        "colab_type": "code",
        "colab": {}
      },
      "source": [
        "init = tf.global_variables_initializer()\n",
        "sess = tf.Session()\n",
        "sess.run(init)"
      ],
      "execution_count": 0,
      "outputs": []
    },
    {
      "cell_type": "markdown",
      "metadata": {
        "id": "ZhCRUQE7Gy-3",
        "colab_type": "text"
      },
      "source": [
        "Now we are ready to start the optimization and run the graph:"
      ]
    },
    {
      "cell_type": "code",
      "metadata": {
        "id": "JzXflzFXGy-4",
        "colab_type": "code",
        "outputId": "201126a6-f945-4791-dce4-ae436a30e35e",
        "colab": {
          "base_uri": "https://localhost:8080/",
          "height": 387
        }
      },
      "source": [
        "train_data = []\n",
        "for step in range(100):\n",
        "    evals = sess.run([train,a,b])[1:]\n",
        "    if step % 5 == 0:\n",
        "        print(step, evals)\n",
        "        train_data.append(evals)"
      ],
      "execution_count": 0,
      "outputs": [
        {
          "output_type": "stream",
          "text": [
            "(0, [2.5203178, 2.969945])\n",
            "(5, [2.4543998, 2.277948])\n",
            "(10, [2.6207647, 2.1917577])\n",
            "(15, [2.7394094, 2.1297243])\n",
            "(20, [2.8241887, 2.0853982])\n",
            "(25, [2.8847682, 2.0537248])\n",
            "(30, [2.9280558, 2.031092])\n",
            "(35, [2.958987, 2.0149198])\n",
            "(40, [2.9810896, 2.0033636])\n",
            "(45, [2.9968832, 1.9951061])\n",
            "(50, [3.0081687, 1.9892056])\n",
            "(55, [3.0162327, 1.9849893])\n",
            "(60, [3.021995, 1.9819766])\n",
            "(65, [3.0261126, 1.9798238])\n",
            "(70, [3.0290546, 1.9782856])\n",
            "(75, [3.0311573, 1.9771862])\n",
            "(80, [3.0326595, 1.9764007])\n",
            "(85, [3.033733, 1.9758396])\n",
            "(90, [3.0345001, 1.9754384])\n",
            "(95, [3.0350482, 1.9751518])\n"
          ],
          "name": "stdout"
        }
      ]
    },
    {
      "cell_type": "code",
      "metadata": {
        "scrolled": true,
        "id": "maTwPvPmGy-7",
        "colab_type": "code",
        "outputId": "8449d075-2697-48b2-e451-41ce76e173b7",
        "colab": {
          "base_uri": "https://localhost:8080/",
          "height": 378
        }
      },
      "source": [
        "converter = plt.colors\n",
        "cr, cg, cb = (1.0, 1.0, 0.0)\n",
        "for f in train_data:\n",
        "    cb += 1.0 / len(train_data)\n",
        "    cg -= 1.0 / len(train_data)\n",
        "    if cb > 1.0: cb = 1.0\n",
        "    if cg < 0.0: cg = 0.0\n",
        "    [a, b] = f\n",
        "    f_y = np.vectorize(lambda x: a*x + b)(x_data)\n",
        "    line = plt.plot(x_data, f_y)\n",
        "    plt.setp(line, color=(cr,cg,cb))\n",
        "\n",
        "plt.plot(x_data, y_data, 'ro')\n",
        "\n",
        "\n",
        "green_line = mpatches.Patch(color='red', label='Data Points')\n",
        "\n",
        "plt.legend(handles=[green_line])\n",
        "\n",
        "plt.show()"
      ],
      "execution_count": 0,
      "outputs": [
        {
          "output_type": "display_data",
          "data": {
            "image/png": "[encoded data removed]",
            "text/plain": [
              "<Figure size 720x432 with 1 Axes>"
            ]
          },
          "metadata": {
            "tags": []
          }
        }
      ]
    },
    {
      "cell_type": "markdown",
      "metadata": {
        "id": "XiP0-PulGy-_",
        "colab_type": "text"
      },
      "source": [
        "---------------"
      ]
    },
    {
      "cell_type": "markdown",
      "metadata": {
        "id": "ZOm6r-WNGy_D",
        "colab_type": "text"
      },
      "source": [
        "# Thanks for completing this lesson!\n",
        "\n",
        "If you are familiar with some of these methods and concepts, this tutorial might have been boring for you, but it is important to get used to the TensorFlow mechanics, and feel familiar and comfortable using it, so you can build more complex algorithms in it.\n",
        "\n",
        "Created by <a href=\"https://ca.linkedin.com/in/rafaelblsilva\"> Rafael Belo Da Silva</a><br />\n",
        "Linear Regression plot by Hugo Sales Correa\n",
        "\n",
        "This tutorial was inspired by the documentation of TensorFlow : https://www.tensorflow.org/versions/r0.9/get_started/index.html <br>\n"
      ]
    }
  ]
}