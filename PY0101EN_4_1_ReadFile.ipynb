{
  "nbformat": 4,
  "nbformat_minor": 0,
  "metadata": {
    "colab": {
      "name": "PY0101EN-4-1-ReadFile.ipynb",
      "version": "0.3.2",
      "provenance": [],
      "toc_visible": true
    },
    "language_info": {
      "codemirror_mode": {
        "name": "ipython",
        "version": 3
      },
      "file_extension": ".py",
      "mimetype": "text/x-python",
      "name": "python",
      "nbconvert_exporter": "python",
      "pygments_lexer": "ipython3",
      "version": "3.6.6"
    },
    "kernelspec": {
      "display_name": "Python 3",
      "language": "python",
      "name": "python3"
    }
  },
  "cells": [
    {
      "cell_type": "markdown",
      "metadata": {
        "id": "alym2eG1b9OT",
        "colab_type": "text"
      },
      "source": [
        "<img src = \"https://i.imgur.com/AKXoLze.jpg\" align = \"center\">"
      ]
    },
    {
      "cell_type": "markdown",
      "metadata": {
        "id": "Meer-m9jb9OU",
        "colab_type": "text"
      },
      "source": [
        "# <h1>Reading Files Python</h1>"
      ]
    },
    {
      "cell_type": "markdown",
      "metadata": {
        "id": "jQuThMnzb9OV",
        "colab_type": "text"
      },
      "source": [
        "<p><strong>Welcome!</strong> This notebook will teach you about reading the text file in the Python Programming Language. By the end of this lab, you'll know how to read text files.</p>"
      ]
    },
    {
      "cell_type": "markdown",
      "metadata": {
        "id": "zxgmZ1u8b9OW",
        "colab_type": "text"
      },
      "source": [
        "# <h2>Table of Contents</h2>\n",
        "<div class=\"alert alert-block alert-info\" style=\"margin-top: 20px\">\n",
        "    <ul>\n",
        "        <li><a href=\"download\">Download Data</a></li>\n",
        "        <li><a href=\"read\">Reading Text Files</a></li>\n",
        "        <li><a href=\"better\">A Better Way to Open a File</a></li>\n",
        "    </ul>\n",
        "    <p>\n",
        "        Estimated time needed: <strong>40 min</strong>\n",
        "    </p>\n",
        "</div>\n",
        "\n",
        "<hr>"
      ]
    },
    {
      "cell_type": "markdown",
      "metadata": {
        "id": "XbdVkVkvb9OW",
        "colab_type": "text"
      },
      "source": [
        "# <h2 id=\"download\">Download Data</h2>"
      ]
    },
    {
      "cell_type": "code",
      "metadata": {
        "id": "jX6nIwVKb9OX",
        "colab_type": "code",
        "outputId": "7933dcab-7d5e-4e31-92c5-b3833600da28",
        "colab": {
          "base_uri": "https://localhost:8080/",
          "height": 239
        }
      },
      "source": [
        "# Download Example file\n",
        "!mkdir -p /resources/data\n",
        "!wget -O /resources/data/Example1.txt https://s3-api.us-geo.objectstorage.softlayer.net/cf-courses-data/CognitiveClass/PY0101EN/labs/example1.txt"
      ],
      "execution_count": 2,
      "outputs": [
        {
          "output_type": "stream",
          "text": [
            "--2019-07-16 17:19:46--  https://s3-api.us-geo.objectstorage.softlayer.net/cf-courses-data/CognitiveClass/PY0101EN/labs/example1.txt\n",
            "Resolving s3-api.us-geo.objectstorage.softlayer.net (s3-api.us-geo.objectstorage.softlayer.net)... 67.228.254.193\n",
            "Connecting to s3-api.us-geo.objectstorage.softlayer.net (s3-api.us-geo.objectstorage.softlayer.net)|67.228.254.193|:443... connected.\n",
            "HTTP request sent, awaiting response... 200 OK\n",
            "Length: 45 [text/plain]\n",
            "Saving to: ‘/resources/data/Example1.txt’\n",
            "\n",
            "/resources/data/Exa 100%[===================>]      45  --.-KB/s    in 0s      \n",
            "\n",
            "2019-07-16 17:19:52 (6.27 MB/s) - ‘/resources/data/Example1.txt’ saved [45/45]\n",
            "\n"
          ],
          "name": "stdout"
        }
      ]
    },
    {
      "cell_type": "markdown",
      "metadata": {
        "id": "Ya56ZqLBb9Oa",
        "colab_type": "text"
      },
      "source": [
        "<hr>"
      ]
    },
    {
      "cell_type": "markdown",
      "metadata": {
        "id": "Gc7dCtLmb9Ob",
        "colab_type": "text"
      },
      "source": [
        "# <h2 id=\"read\">Reading Text Files</h2>"
      ]
    },
    {
      "cell_type": "markdown",
      "metadata": {
        "id": "fWnvhCHXb9Oc",
        "colab_type": "text"
      },
      "source": [
        "One way to read or write a file in Python is to use the built-in <code>open</code> function. The <code>open</code> function provides a <b>File object</b> that contains the methods and attributes you need in order to read, save, and manipulate the file. In this notebook, we will only cover <b>.txt</b> files. The first parameter you need is the file path and the file name. An example is shown as follow:"
      ]
    },
    {
      "cell_type": "markdown",
      "metadata": {
        "id": "GvMcHCHQb9Od",
        "colab_type": "text"
      },
      "source": [
        "<img src=\"https://s3-api.us-geo.objectstorage.softlayer.net/cf-courses-data/CognitiveClass/PY0101EN/Chapter%204/Images/ReadOpen.png\" width=\"500\" />"
      ]
    },
    {
      "cell_type": "markdown",
      "metadata": {
        "id": "rhLW24cGb9Od",
        "colab_type": "text"
      },
      "source": [
        " The mode argument is optional and the default value is <b>r</b>. In this notebook we only cover two modes: \n",
        "<ul>\n",
        "    <li><b>r</b> Read mode for reading files </li>\n",
        "    <li><b>w</b> Write mode for writing files</li>\n",
        "</ul>"
      ]
    },
    {
      "cell_type": "markdown",
      "metadata": {
        "id": "8CnOSDPzb9Oe",
        "colab_type": "text"
      },
      "source": [
        "For the next example, we will use the text file <b>Example1.txt</b>. The file is shown as follow:"
      ]
    },
    {
      "cell_type": "markdown",
      "metadata": {
        "id": "2v65tGcZb9Of",
        "colab_type": "text"
      },
      "source": [
        "<img src=\"https://s3-api.us-geo.objectstorage.softlayer.net/cf-courses-data/CognitiveClass/PY0101EN/Chapter%204/Images/ReadFile.png\" width=\"200\" />"
      ]
    },
    {
      "cell_type": "markdown",
      "metadata": {
        "id": "3jVnWz1Ib9Of",
        "colab_type": "text"
      },
      "source": [
        " We read the file: "
      ]
    },
    {
      "cell_type": "code",
      "metadata": {
        "id": "Mp4f78zvb9Og",
        "colab_type": "code",
        "colab": {}
      },
      "source": [
        "# Read the Example1.txt\n",
        "\n",
        "example1 = \"/resources/data/Example1.txt\"\n",
        "file1 = open(example1, \"r\")"
      ],
      "execution_count": 0,
      "outputs": []
    },
    {
      "cell_type": "markdown",
      "metadata": {
        "id": "ytWfiIkgb9Ok",
        "colab_type": "text"
      },
      "source": [
        " We can view the attributes of the file."
      ]
    },
    {
      "cell_type": "markdown",
      "metadata": {
        "id": "yBZJ8uAab9Ol",
        "colab_type": "text"
      },
      "source": [
        "The name of the file:"
      ]
    },
    {
      "cell_type": "code",
      "metadata": {
        "id": "etA0Ud7Ab9Om",
        "colab_type": "code",
        "outputId": "ad20a400-f037-446b-9edc-d6521b4ce08e",
        "colab": {
          "base_uri": "https://localhost:8080/",
          "height": 35
        }
      },
      "source": [
        "# Print the path of file\n",
        "\n",
        "file1.name"
      ],
      "execution_count": 4,
      "outputs": [
        {
          "output_type": "execute_result",
          "data": {
            "text/plain": [
              "'/resources/data/Example1.txt'"
            ]
          },
          "metadata": {
            "tags": []
          },
          "execution_count": 4
        }
      ]
    },
    {
      "cell_type": "markdown",
      "metadata": {
        "id": "dyl7LPxqb9Op",
        "colab_type": "text"
      },
      "source": [
        " The mode the file object is in:"
      ]
    },
    {
      "cell_type": "code",
      "metadata": {
        "id": "sxo2befMb9Or",
        "colab_type": "code",
        "outputId": "977a4ec1-8ede-42e9-db74-35ec9ffdd1ff",
        "colab": {
          "base_uri": "https://localhost:8080/",
          "height": 35
        }
      },
      "source": [
        "# Print the mode of file, either 'r' or 'w'\n",
        "\n",
        "file1.mode"
      ],
      "execution_count": 5,
      "outputs": [
        {
          "output_type": "execute_result",
          "data": {
            "text/plain": [
              "'r'"
            ]
          },
          "metadata": {
            "tags": []
          },
          "execution_count": 5
        }
      ]
    },
    {
      "cell_type": "markdown",
      "metadata": {
        "id": "c1xJiP5bb9Ox",
        "colab_type": "text"
      },
      "source": [
        "We can read the file and assign it to a variable :"
      ]
    },
    {
      "cell_type": "code",
      "metadata": {
        "id": "tbZSFTczb9Oy",
        "colab_type": "code",
        "outputId": "ade5136d-9b65-489c-f524-628e94b22f42",
        "colab": {
          "base_uri": "https://localhost:8080/",
          "height": 35
        }
      },
      "source": [
        "# Read the file\n",
        "\n",
        "FileContent = file1.read()\n",
        "FileContent"
      ],
      "execution_count": 6,
      "outputs": [
        {
          "output_type": "execute_result",
          "data": {
            "text/plain": [
              "'This is line 1 \\nThis is line 2\\nThis is line 3'"
            ]
          },
          "metadata": {
            "tags": []
          },
          "execution_count": 6
        }
      ]
    },
    {
      "cell_type": "markdown",
      "metadata": {
        "id": "6pHTGaApb9O3",
        "colab_type": "text"
      },
      "source": [
        "The <b>/n</b> means that there is a new line. "
      ]
    },
    {
      "cell_type": "markdown",
      "metadata": {
        "id": "t4obJYVnb9O4",
        "colab_type": "text"
      },
      "source": [
        "We can print the file: "
      ]
    },
    {
      "cell_type": "code",
      "metadata": {
        "id": "7YmRz7Ktb9O5",
        "colab_type": "code",
        "outputId": "3966d3f2-a947-48ec-df8c-41f71cef2b43",
        "colab": {
          "base_uri": "https://localhost:8080/",
          "height": 72
        }
      },
      "source": [
        "# Print the file with '\\n' as a new line\n",
        "\n",
        "print(FileContent)"
      ],
      "execution_count": 7,
      "outputs": [
        {
          "output_type": "stream",
          "text": [
            "This is line 1 \n",
            "This is line 2\n",
            "This is line 3\n"
          ],
          "name": "stdout"
        }
      ]
    },
    {
      "cell_type": "markdown",
      "metadata": {
        "id": "-anejUnNb9O8",
        "colab_type": "text"
      },
      "source": [
        "The file is of type string:"
      ]
    },
    {
      "cell_type": "code",
      "metadata": {
        "id": "p1m0rPl9b9O9",
        "colab_type": "code",
        "outputId": "73b8dc93-ffbc-4a88-b2f1-d1e36b0d56e4",
        "colab": {
          "base_uri": "https://localhost:8080/",
          "height": 35
        }
      },
      "source": [
        "# Type of file content\n",
        "\n",
        "type(FileContent)"
      ],
      "execution_count": 8,
      "outputs": [
        {
          "output_type": "execute_result",
          "data": {
            "text/plain": [
              "str"
            ]
          },
          "metadata": {
            "tags": []
          },
          "execution_count": 8
        }
      ]
    },
    {
      "cell_type": "markdown",
      "metadata": {
        "id": "N_SROdYWb9PF",
        "colab_type": "text"
      },
      "source": [
        " We must close the file object:"
      ]
    },
    {
      "cell_type": "code",
      "metadata": {
        "id": "ffN_Tc2Mb9PH",
        "colab_type": "code",
        "colab": {}
      },
      "source": [
        "# Close file after finish\n",
        "\n",
        "file1.close()"
      ],
      "execution_count": 0,
      "outputs": []
    },
    {
      "cell_type": "markdown",
      "metadata": {
        "id": "sS4qMDJOb9PK",
        "colab_type": "text"
      },
      "source": [
        "<hr>"
      ]
    },
    {
      "cell_type": "markdown",
      "metadata": {
        "id": "qEV7sNtrb9PL",
        "colab_type": "text"
      },
      "source": [
        "# <h2 id=\"better\">A Better Way to Open a File</h2>"
      ]
    },
    {
      "cell_type": "markdown",
      "metadata": {
        "id": "qEb3AS5wb9PL",
        "colab_type": "text"
      },
      "source": [
        "Using the <code>with</code> statement is better practice, it automatically closes the file even if the code encounters an exception. The code will run everything in the indent block then close the file object. "
      ]
    },
    {
      "cell_type": "code",
      "metadata": {
        "id": "yv_FGovVb9PM",
        "colab_type": "code",
        "outputId": "1f6670db-2ad7-4954-f5e3-17b87565b704",
        "colab": {
          "base_uri": "https://localhost:8080/",
          "height": 72
        }
      },
      "source": [
        "# Open file using with\n",
        "\n",
        "with open(example1, \"r\") as file1:\n",
        "    FileContent = file1.read()\n",
        "    print(FileContent)"
      ],
      "execution_count": 10,
      "outputs": [
        {
          "output_type": "stream",
          "text": [
            "This is line 1 \n",
            "This is line 2\n",
            "This is line 3\n"
          ],
          "name": "stdout"
        }
      ]
    },
    {
      "cell_type": "markdown",
      "metadata": {
        "id": "ZKkqC4kcb9PP",
        "colab_type": "text"
      },
      "source": [
        "The file object is closed, you can verify it by running the following cell:  "
      ]
    },
    {
      "cell_type": "code",
      "metadata": {
        "id": "D-131kM-b9PQ",
        "colab_type": "code",
        "outputId": "d56d3ab6-b0f4-4e86-eec4-7cceba8c70b2",
        "colab": {
          "base_uri": "https://localhost:8080/",
          "height": 35
        }
      },
      "source": [
        "# Verify if the file is closed\n",
        "\n",
        "file1.closed"
      ],
      "execution_count": 11,
      "outputs": [
        {
          "output_type": "execute_result",
          "data": {
            "text/plain": [
              "True"
            ]
          },
          "metadata": {
            "tags": []
          },
          "execution_count": 11
        }
      ]
    },
    {
      "cell_type": "markdown",
      "metadata": {
        "id": "kKY4tDWkb9PT",
        "colab_type": "text"
      },
      "source": [
        " We can see the info in the file:"
      ]
    },
    {
      "cell_type": "code",
      "metadata": {
        "id": "NkPmXfVLb9PU",
        "colab_type": "code",
        "outputId": "e20201c0-f097-4090-d6b8-94c6d7807ec9",
        "colab": {
          "base_uri": "https://localhost:8080/",
          "height": 72
        }
      },
      "source": [
        "# See the content of file\n",
        "\n",
        "print(FileContent)"
      ],
      "execution_count": 12,
      "outputs": [
        {
          "output_type": "stream",
          "text": [
            "This is line 1 \n",
            "This is line 2\n",
            "This is line 3\n"
          ],
          "name": "stdout"
        }
      ]
    },
    {
      "cell_type": "markdown",
      "metadata": {
        "id": "Nr6x3SqOb9PX",
        "colab_type": "text"
      },
      "source": [
        "The syntax is a little confusing as the file object is after the <code>as</code> statement. We also don’t explicitly close the file. Therefore we summarize the steps in a figure:"
      ]
    },
    {
      "cell_type": "markdown",
      "metadata": {
        "id": "C8lF-T4ib9PX",
        "colab_type": "text"
      },
      "source": [
        "<img src=\"https://s3-api.us-geo.objectstorage.softlayer.net/cf-courses-data/CognitiveClass/PY0101EN/Chapter%204/Images/ReadWith.png\" width=\"500\" />"
      ]
    },
    {
      "cell_type": "markdown",
      "metadata": {
        "id": "kiqtxg3Fb9PY",
        "colab_type": "text"
      },
      "source": [
        "We don’t have to read the entire file, for example, we can read the first 4 characters by entering three as a parameter to the method **.read()**:\n"
      ]
    },
    {
      "cell_type": "code",
      "metadata": {
        "id": "oTwSYQaib9PY",
        "colab_type": "code",
        "outputId": "c5d6a587-1ad1-4900-df12-a73f47460334",
        "colab": {
          "base_uri": "https://localhost:8080/",
          "height": 35
        }
      },
      "source": [
        "# Read first four characters\n",
        "\n",
        "with open(example1, \"r\") as file1:\n",
        "    print(file1.read(4))"
      ],
      "execution_count": 13,
      "outputs": [
        {
          "output_type": "stream",
          "text": [
            "This\n"
          ],
          "name": "stdout"
        }
      ]
    },
    {
      "cell_type": "markdown",
      "metadata": {
        "id": "ZUn3y7uYb9Pc",
        "colab_type": "text"
      },
      "source": [
        "Once the method <code>.read(4)</code> is called the first 4 characters are called. If we call the method again, the next 4 characters are called. The output for the following cell will demonstrate the process for different inputs to the method <code>read()</code>:"
      ]
    },
    {
      "cell_type": "code",
      "metadata": {
        "id": "Uujz3OyCb9Pd",
        "colab_type": "code",
        "outputId": "0c4f15ae-68f7-4997-eadb-eddad916cf67",
        "colab": {
          "base_uri": "https://localhost:8080/",
          "height": 109
        }
      },
      "source": [
        "# Read certain amount of characters\n",
        "\n",
        "with open(example1, \"r\") as file1:\n",
        "    print(file1.read(4))\n",
        "    print(file1.read(4))\n",
        "    print(file1.read(7))\n",
        "    print(file1.read(15))"
      ],
      "execution_count": 14,
      "outputs": [
        {
          "output_type": "stream",
          "text": [
            "This\n",
            " is \n",
            "line 1 \n",
            "\n",
            "This is line 2\n"
          ],
          "name": "stdout"
        }
      ]
    },
    {
      "cell_type": "markdown",
      "metadata": {
        "id": "tGBh6bzFb9Pi",
        "colab_type": "text"
      },
      "source": [
        "The process is illustrated in the below figure, and each color represents the part of the file read after the method <code>read()</code> is called:"
      ]
    },
    {
      "cell_type": "markdown",
      "metadata": {
        "id": "4sWuZo6Ib9Pi",
        "colab_type": "text"
      },
      "source": [
        "<img src=\"https://s3-api.us-geo.objectstorage.softlayer.net/cf-courses-data/CognitiveClass/PY0101EN/Chapter%204/Images/ReadChar.png\" width=\"500\" />"
      ]
    },
    {
      "cell_type": "markdown",
      "metadata": {
        "id": "6K0ueUKub9Pj",
        "colab_type": "text"
      },
      "source": [
        " Here is an example using the same file, but instead we read 16, 5, and then 9 characters at a time: "
      ]
    },
    {
      "cell_type": "code",
      "metadata": {
        "id": "YtHfpNTUb9Pk",
        "colab_type": "code",
        "outputId": "750ac251-e585-499d-fc89-ea1163dd34bf",
        "colab": {
          "base_uri": "https://localhost:8080/",
          "height": 90
        }
      },
      "source": [
        "# Read certain amount of characters\n",
        "\n",
        "with open(example1, \"r\") as file1:\n",
        "    print(file1.read(16))\n",
        "    print(file1.read(5))\n",
        "    print(file1.read(9))"
      ],
      "execution_count": 15,
      "outputs": [
        {
          "output_type": "stream",
          "text": [
            "This is line 1 \n",
            "\n",
            "This \n",
            "is line 2\n"
          ],
          "name": "stdout"
        }
      ]
    },
    {
      "cell_type": "markdown",
      "metadata": {
        "id": "TYEi5i_Jb9Pn",
        "colab_type": "text"
      },
      "source": [
        "We can also read one line of the file at a time using the method <code>readline()</code>: "
      ]
    },
    {
      "cell_type": "code",
      "metadata": {
        "id": "P2QRt9a3b9Pn",
        "colab_type": "code",
        "outputId": "2000722d-03fa-4ba4-94ff-a9293a058dd4",
        "colab": {
          "base_uri": "https://localhost:8080/",
          "height": 54
        }
      },
      "source": [
        "# Read one line\n",
        "\n",
        "with open(example1, \"r\") as file1:\n",
        "    print(\"first line: \" + file1.readline())"
      ],
      "execution_count": 16,
      "outputs": [
        {
          "output_type": "stream",
          "text": [
            "first line: This is line 1 \n",
            "\n"
          ],
          "name": "stdout"
        }
      ]
    },
    {
      "cell_type": "markdown",
      "metadata": {
        "id": "jFS9JsH4b9Pq",
        "colab_type": "text"
      },
      "source": [
        " We can use a loop to iterate through each line: \n"
      ]
    },
    {
      "cell_type": "code",
      "metadata": {
        "id": "VAZ1AsSfb9Pq",
        "colab_type": "code",
        "outputId": "282f3a54-a263-4898-ef60-e80d2ce8783e",
        "colab": {
          "base_uri": "https://localhost:8080/",
          "height": 109
        }
      },
      "source": [
        "# Iterate through the lines\n",
        "\n",
        "with open(example1,\"r\") as file1:\n",
        "        i = 0;\n",
        "        for line in file1:\n",
        "            print(\"Iteration\", str(i), \": \", line)\n",
        "            i = i + 1;"
      ],
      "execution_count": 17,
      "outputs": [
        {
          "output_type": "stream",
          "text": [
            "Iteration 0 :  This is line 1 \n",
            "\n",
            "Iteration 1 :  This is line 2\n",
            "\n",
            "Iteration 2 :  This is line 3\n"
          ],
          "name": "stdout"
        }
      ]
    },
    {
      "cell_type": "markdown",
      "metadata": {
        "id": "KpSdneSqb9Pt",
        "colab_type": "text"
      },
      "source": [
        "We can use the method <code>readlines()</code> to save the text file to a list: "
      ]
    },
    {
      "cell_type": "code",
      "metadata": {
        "id": "n0wzyQ18b9Pu",
        "colab_type": "code",
        "colab": {}
      },
      "source": [
        "# Read all lines and save as a list\n",
        "\n",
        "with open(example1, \"r\") as file1:\n",
        "    FileasList = file1.readlines()"
      ],
      "execution_count": 0,
      "outputs": []
    },
    {
      "cell_type": "markdown",
      "metadata": {
        "id": "eioE61onb9Pw",
        "colab_type": "text"
      },
      "source": [
        " Each element of the list corresponds to a line of text:"
      ]
    },
    {
      "cell_type": "code",
      "metadata": {
        "id": "mguKUPOQb9Pw",
        "colab_type": "code",
        "outputId": "25f9101d-9f57-4182-f840-20a3c7cb030d",
        "colab": {
          "base_uri": "https://localhost:8080/",
          "height": 35
        }
      },
      "source": [
        "# Print the first line\n",
        "\n",
        "FileasList[0]"
      ],
      "execution_count": 19,
      "outputs": [
        {
          "output_type": "execute_result",
          "data": {
            "text/plain": [
              "'This is line 1 \\n'"
            ]
          },
          "metadata": {
            "tags": []
          },
          "execution_count": 19
        }
      ]
    },
    {
      "cell_type": "code",
      "metadata": {
        "id": "DIboHHo6b9P1",
        "colab_type": "code",
        "outputId": "13ff3d51-9128-4c18-be91-5176bd38f0c4",
        "colab": {
          "base_uri": "https://localhost:8080/",
          "height": 35
        }
      },
      "source": [
        "# Print the second line\n",
        "\n",
        "FileasList[1]"
      ],
      "execution_count": 20,
      "outputs": [
        {
          "output_type": "execute_result",
          "data": {
            "text/plain": [
              "'This is line 2\\n'"
            ]
          },
          "metadata": {
            "tags": []
          },
          "execution_count": 20
        }
      ]
    },
    {
      "cell_type": "code",
      "metadata": {
        "id": "RgPJgLcDb9P5",
        "colab_type": "code",
        "outputId": "f9f17142-a59c-4d19-d05d-b5fd8c587af0",
        "colab": {
          "base_uri": "https://localhost:8080/",
          "height": 35
        }
      },
      "source": [
        "# Print the third line\n",
        "\n",
        "FileasList[2]"
      ],
      "execution_count": 21,
      "outputs": [
        {
          "output_type": "execute_result",
          "data": {
            "text/plain": [
              "'This is line 3'"
            ]
          },
          "metadata": {
            "tags": []
          },
          "execution_count": 21
        }
      ]
    },
    {
      "cell_type": "markdown",
      "metadata": {
        "id": "qOWKrkRmb9P_",
        "colab_type": "text"
      },
      "source": [
        "<hr>\n",
        "<h2>The last exercise!</h2>\n",
        "<p>Congratulations, you have completed your first lesson and hands-on lab in Python. However, there is one more thing you need to do. The Data Science community encourages sharing work. The best way to share and showcase your work is to share it on GitHub. By sharing your notebook on GitHub you are not only building your reputation with fellow data scientists, but you can also show it off when applying for a job. Even though this was your first piece of work, it is never too early to start building good habits. So, please read and follow <a href=\"https://cognitiveclass.ai/blog/data-scientists-stand-out-by-sharing-your-notebooks/\" target=\"_blank\">this article</a> to learn how to share your work.\n",
        "<hr>"
      ]
    },
    {
      "cell_type": "markdown",
      "metadata": {
        "id": "19KP0dY0b9QE",
        "colab_type": "text"
      },
      "source": [
        "<p>Copyright &copy; 2018 IBM Developer Skills Network. This notebook and its source code are released under the terms of the <a href=\"https://cognitiveclass.ai/mit-license/\">MIT License</a>.</p>"
      ]
    }
  ]
}