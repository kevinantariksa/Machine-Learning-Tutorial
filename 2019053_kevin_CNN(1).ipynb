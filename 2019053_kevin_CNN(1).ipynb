{
  "nbformat": 4,
  "nbformat_minor": 0,
  "metadata": {
    "colab": {
      "name": "2019053_kevin_CNN.ipynb",
      "version": "0.3.2",
      "provenance": []
    },
    "language_info": {
      "codemirror_mode": {
        "name": "ipython",
        "version": 2
      },
      "file_extension": ".py",
      "mimetype": "text/x-python",
      "name": "python",
      "nbconvert_exporter": "python",
      "pygments_lexer": "ipython2",
      "version": "2.7.13"
    },
    "kernelspec": {
      "name": "python2",
      "display_name": "Python 2"
    },
    "accelerator": "GPU"
  },
  "cells": [
    {
      "cell_type": "markdown",
      "metadata": {
        "id": "2rNlR38HELuw",
        "colab_type": "text"
      },
      "source": [
        "<img src = \"https://i.imgur.com/UjutVJd.jpg\" align = \"center\"></a>\n",
        "\n",
        "<h1 align=center><font size = 5>CONVOLUTIONAL NEURAL NETWORK APPLICATION</font></h1>"
      ]
    },
    {
      "cell_type": "markdown",
      "metadata": {
        "id": "U7ozCvtHELux",
        "colab_type": "text"
      },
      "source": [
        "## Introduction"
      ]
    },
    {
      "cell_type": "markdown",
      "metadata": {
        "id": "7_Mcrms_ELuy",
        "colab_type": "text"
      },
      "source": [
        "In this section, we will use the famous [MNIST Dataset](http://yann.lecun.com/exdb/mnist/) to build two Neural Networks capable to perform handwritten digits classification. The first Network is a simple Multi-layer Perceptron (MLP) and the second one is a Convolutional Neural Network (CNN from now on). In other words, our algorithm will say, with some associated error, what type of digit is the presented input."
      ]
    },
    {
      "cell_type": "markdown",
      "metadata": {
        "id": "by0g11LqELuz",
        "colab_type": "text"
      },
      "source": [
        "---"
      ]
    },
    {
      "cell_type": "markdown",
      "metadata": {
        "id": "Kbx9FkJVELuz",
        "colab_type": "text"
      },
      "source": [
        "## Table of contents\n",
        "\n",
        "<div class=\"alert alert-block alert-info\" style=\"margin-top: 20px\">\n",
        "<font size = 3><strong>Clik on the links to see the sections:</strong></font>\n",
        "<br>\n",
        "- <p><a href=\"#ref1\">What is Deep Learning</a></p>\n",
        "- <p><a href=\"#ref2\">Simple test: Is tensorflow working?</a></p>\n",
        "- <p><a href=\"#ref3\">1st part: classify MNIST using a simple model</a></p>\n",
        "- <p><a href=\"#ref4\">Evaluating the final result</a></p>\n",
        "- <p><a href=\"#ref5\">How to improve our model?</a></p>\n",
        "- <p><a href=\"#ref6\">2nd part: Deep Learning applied on MNIST</a></p>\n",
        "- <p><a href=\"#ref7\">Summary of the Deep Convolutional Neural Network</a></p>\n",
        "- <p><a href=\"#ref8\">Define functions and train the model</a></p>\n",
        "- <p><a href=\"#ref9\">Evaluate the model</a></p>"
      ]
    },
    {
      "cell_type": "markdown",
      "metadata": {
        "id": "LS6w5AXuELu0",
        "colab_type": "text"
      },
      "source": [
        "---"
      ]
    },
    {
      "cell_type": "markdown",
      "metadata": {
        "id": "yCN8iM3QELu1",
        "colab_type": "text"
      },
      "source": [
        "<a id=\"ref1\"></a>\n",
        "# What is Deep Learning?"
      ]
    },
    {
      "cell_type": "markdown",
      "metadata": {
        "id": "dLU06pt0ELu2",
        "colab_type": "text"
      },
      "source": [
        "**Brief Theory:** Deep learning (also known as deep structured learning, hierarchical learning or deep machine learning) is a branch of machine learning based on a set of algorithms that attempt to model high-level abstractions in data by using multiple processing layers, with complex structures or otherwise, composed of multiple non-linear transformations."
      ]
    },
    {
      "cell_type": "markdown",
      "metadata": {
        "collapsed": true,
        "id": "UotWntehELu3",
        "colab_type": "text"
      },
      "source": [
        "<img src=\"https://ibm.box.com/shared/static/gcbbrh440604cj2nksu3f44be87b8ank.png\" alt=\"HTML5 Icon\" style=\"width:600px;height:450px;\">\n",
        "<div style=\"text-align:center\">It's time for deep learning. Our brain does't work with one or three layers. Why it would be different with machines?. </div>"
      ]
    },
    {
      "cell_type": "markdown",
      "metadata": {
        "id": "BoNe5RpVELu4",
        "colab_type": "text"
      },
      "source": [
        "**In Practice, defining the term \"Deep\":** in this context, deep means that we are studying a Neural Network which has several hidden layers (more than one), no matter what type (convolutional, pooling, normalization, fully-connected etc). The most interesting part is that some papers noticed that Deep Neural Networks with right architectures/hyper-parameters achieve better results than shallow Neural Networks with same computational power (e.g. number of neurons or connections). "
      ]
    },
    {
      "cell_type": "markdown",
      "metadata": {
        "id": "vrwstnlcELu5",
        "colab_type": "text"
      },
      "source": [
        "**In Practice, defining \"Learning\":** In the context of supervised learning, digits recognition in our case,  the learning consists of a target/feature which is to be predicted using a given set of observations with the already known final prediction (label). In our case, the target will be the digit (0,1,2,3,4,5,6,7,8,9) and the observations are the intensity and relative position of pixels. After some training, it's possible to generate a \"function\" that map inputs (digit image) to desired outputs(type of digit). The only problem is how well this map operation occurs. While trying to generate this \"function\", the training process continues until the model achieves a desired level of accuracy on the training data."
      ]
    },
    {
      "cell_type": "markdown",
      "metadata": {
        "id": "iB-LkPo2ELu5",
        "colab_type": "text"
      },
      "source": [
        "---"
      ]
    },
    {
      "cell_type": "markdown",
      "metadata": {
        "id": "Jq8fayMFELu6",
        "colab_type": "text"
      },
      "source": [
        "__Notice:__ This notebook has been created with tensorflow version 1.1.0, and might not work with other versions."
      ]
    },
    {
      "cell_type": "code",
      "metadata": {
        "id": "2WeHa405ELu7",
        "colab_type": "code",
        "outputId": "17b28ed2-00f5-4f0a-c7ff-2f1e7c37fd0e",
        "colab": {
          "base_uri": "https://localhost:8080/",
          "height": 35
        }
      },
      "source": [
        "import tensorflow as tf\n",
        "tf.__version__"
      ],
      "execution_count": 71,
      "outputs": [
        {
          "output_type": "execute_result",
          "data": {
            "text/plain": [
              "'1.14.0'"
            ]
          },
          "metadata": {
            "tags": []
          },
          "execution_count": 71
        }
      ]
    },
    {
      "cell_type": "markdown",
      "metadata": {
        "id": "1QRtXd51ELu_",
        "colab_type": "text"
      },
      "source": [
        "In this tutorial, we first classify MNIST using a simple Multi-layer percepetron and then, in the second part, we use deeplearning to improve the accuracy of our results.\n",
        "\n",
        "<a id=\"ref3\"></a>\n",
        "# 1st part: classify MNIST using a simple model."
      ]
    },
    {
      "cell_type": "markdown",
      "metadata": {
        "id": "Yx-KYQZpELvA",
        "colab_type": "text"
      },
      "source": [
        "We are going to create a simple Multi-layer percepetron, a simple type of Neural Network, to performe classification tasks on the MNIST digits dataset. If you are not familiar with the MNIST dataset, please consider to read more about it: <a href=\"http://yann.lecun.com/exdb/mnist/\">click here</a> "
      ]
    },
    {
      "cell_type": "markdown",
      "metadata": {
        "id": "Bxdow75JELvB",
        "colab_type": "text"
      },
      "source": [
        "### What is MNIST?"
      ]
    },
    {
      "cell_type": "markdown",
      "metadata": {
        "id": "IBdq7q6IELvC",
        "colab_type": "text"
      },
      "source": [
        "According to Lecun's website, the MNIST is a: \"database of handwritten digits that has a training set of 60,000 examples, and a test set of 10,000 examples. It is a subset of a larger set available from NIST. The digits have been size-normalized and centered in a fixed-size image\"."
      ]
    },
    {
      "cell_type": "markdown",
      "metadata": {
        "id": "YLY0tViAELvC",
        "colab_type": "text"
      },
      "source": [
        "### Import the MNIST dataset using TensorFlow built-in feature"
      ]
    },
    {
      "cell_type": "markdown",
      "metadata": {
        "id": "Qd-9e-TnELvD",
        "colab_type": "text"
      },
      "source": [
        "It's very important to notice that MNIST is a high optimized data-set and it does not contain images. You will need to build your own code if you want to see the real digits. Another important side note is the effort that the authors invested on this data-set with normalization and centering operations.  "
      ]
    },
    {
      "cell_type": "code",
      "metadata": {
        "scrolled": true,
        "id": "tQ7nTqQpELvE",
        "colab_type": "code",
        "outputId": "a50181f4-788f-43b1-cdb5-6136a2c00c00",
        "colab": {
          "base_uri": "https://localhost:8080/",
          "height": 91
        }
      },
      "source": [
        "from tensorflow.examples.tutorials.mnist import input_data\n",
        "mnist = input_data.read_data_sets('MNIST_data', one_hot=True)"
      ],
      "execution_count": 72,
      "outputs": [
        {
          "output_type": "stream",
          "text": [
            "Extracting MNIST_data/train-images-idx3-ubyte.gz\n",
            "Extracting MNIST_data/train-labels-idx1-ubyte.gz\n",
            "Extracting MNIST_data/t10k-images-idx3-ubyte.gz\n",
            "Extracting MNIST_data/t10k-labels-idx1-ubyte.gz\n"
          ],
          "name": "stdout"
        }
      ]
    },
    {
      "cell_type": "markdown",
      "metadata": {
        "id": "5lYLLixwELvH",
        "colab_type": "text"
      },
      "source": [
        "The <span style=\"background-color:#dcdcdc\n",
        "\"> One-hot = True</span> argument only means that, in contrast to Binary representation, the labels will be presented in a way that only one bit will be on for a specific digit. For example, five and zero in a binary code would be:"
      ]
    },
    {
      "cell_type": "markdown",
      "metadata": {
        "id": "7Yl8hfsQELvJ",
        "colab_type": "text"
      },
      "source": [
        "<pre>\n",
        "Number representation:    0\n",
        "Binary encoding:        [2^5]  [2^4]   [2^3]   [2^2]   [2^1]   [2^0]  \n",
        "Array/vector:             0      0       0       0       0       0 \n",
        "\n",
        "Number representation:    5\n",
        "Binary encoding:        [2^5]  [2^4]   [2^3]   [2^2]   [2^1]   [2^0]  \n",
        "Array/vector:             0      0       0       1       0       1  \n",
        "</pre>"
      ]
    },
    {
      "cell_type": "markdown",
      "metadata": {
        "id": "yF3Auu-EELvJ",
        "colab_type": "text"
      },
      "source": [
        "Using a different notation, the same digits using one-hot vector representation can be show as: "
      ]
    },
    {
      "cell_type": "markdown",
      "metadata": {
        "id": "z0aQC2RtELvL",
        "colab_type": "text"
      },
      "source": [
        "<pre>\n",
        "Number representation:    0\n",
        "One-hot encoding:        [5]   [4]    [3]    [2]    [1]   [0]  \n",
        "Array/vector:             0     0      0      0      0     1   \n",
        "\n",
        "Number representation:    5\n",
        "One-hot encoding:        [5]   [4]    [3]    [2]    [1]    [0]  \n",
        "Array/vector:             1     0      0      0      0      0   \n",
        "</pre>"
      ]
    },
    {
      "cell_type": "markdown",
      "metadata": {
        "id": "cashE_MYELvM",
        "colab_type": "text"
      },
      "source": [
        "### Understanding the imported data"
      ]
    },
    {
      "cell_type": "markdown",
      "metadata": {
        "id": "4fyutOZ4ELvN",
        "colab_type": "text"
      },
      "source": [
        "The imported data can be divided as follow:\n",
        "\n",
        "- Training (mnist.train) >>  Use the given dataset with inputs and related outputs for training of NN. In our case, if you give an image that you know that represents a \"nine\", this set will tell the neural network that we expect a \"nine\" as the output.  \n",
        "        - 55,000 data points\n",
        "        - mnist.train.images for inputs\n",
        "        - mnist.train.labels for outputs\n",
        "  \n",
        "   \n",
        "- Validation (mnist.validation) >> The same as training, but now the date is used to generate model properties (classification error, for example) and from this, tune parameters like the optimal number of hidden units or determine a stopping point for the back-propagation algorithm  \n",
        "        - 5,000 data points\n",
        "        - mnist.validation.images for inputs\n",
        "        - mnist.validation.labels for outputs\n",
        "  \n",
        "  \n",
        "- Test (mnist.test) >> the model does not have access to this informations prior to the test phase. It is used to evaluate the performance and accuracy of the model against \"real life situations\". No further optimization beyond this point.  \n",
        "        - 10,000 data points\n",
        "        - mnist.test.images for inputs\n",
        "        - mnist.test.labels for outputs\n",
        "  "
      ]
    },
    {
      "cell_type": "markdown",
      "metadata": {
        "id": "mfp8XTQoELvO",
        "colab_type": "text"
      },
      "source": [
        "### Creating an interactive section"
      ]
    },
    {
      "cell_type": "markdown",
      "metadata": {
        "id": "DB0Rx3JwELvP",
        "colab_type": "text"
      },
      "source": [
        "You have two basic options when using TensorFlow to run your code:\n",
        "\n",
        "- [Build graphs and run session] Do all the set-up and THEN execute a session to evaluate tensors and run operations (ops) \n",
        "- [Interactive session] create your coding and run on the fly. \n",
        "\n",
        "For this first part, we will use the interactive session that is more suitable for environments like Jupyter notebooks."
      ]
    },
    {
      "cell_type": "code",
      "metadata": {
        "id": "iBQFwjoIELvR",
        "colab_type": "code",
        "colab": {}
      },
      "source": [
        "sess = tf.InteractiveSession()"
      ],
      "execution_count": 0,
      "outputs": []
    },
    {
      "cell_type": "markdown",
      "metadata": {
        "id": "m17Q2GDgELvU",
        "colab_type": "text"
      },
      "source": [
        "### Creating placeholders"
      ]
    },
    {
      "cell_type": "markdown",
      "metadata": {
        "id": "yjSYppE1ELvV",
        "colab_type": "text"
      },
      "source": [
        "It's a best practice to create placeholders before variable assignments when using TensorFlow. Here we'll create placeholders for inputs (\"Xs\") and outputs (\"Ys\").   \n",
        "\n",
        "__Placeholder 'X':__ represents the \"space\" allocated input or the images. \n",
        "       * Each input has 784 pixels distributed by a 28 width x 28 height matrix   \n",
        "       * The 'shape' argument defines the tensor size by its dimensions.  \n",
        "       * 1st dimension = None. Indicates that the batch size, can be of any size.  \n",
        "       * 2nd dimension = 784. Indicates the number of pixels on a single flattened MNIST image.  \n",
        "      \n",
        "__Placeholder 'Y':___ represents the final output or the labels.  \n",
        "       * 10 possible classes (0,1,2,3,4,5,6,7,8,9)  \n",
        "       * The 'shape' argument defines the tensor size by its dimensions.  \n",
        "       * 1st dimension = None. Indicates that the batch size, can be of any size.   \n",
        "       * 2nd dimension = 10. Indicates the number of targets/outcomes \n",
        "\n",
        "__dtype for both placeholders:__ if you not sure, use tf.float32. The limitation here is that the later presented softmax function only accepts float32 or float64 dtypes. For more dtypes, check TensorFlow's documentation <a href=\"https://www.tensorflow.org/versions/r0.9/api_docs/python/framework.html#tensor-types\">here</a>\n"
      ]
    },
    {
      "cell_type": "code",
      "metadata": {
        "id": "FBTEgM8vELvW",
        "colab_type": "code",
        "colab": {}
      },
      "source": [
        "x  = tf.placeholder(tf.float32, shape=[None, 784])\n",
        "y_ = tf.placeholder(tf.float32, shape=[None, 10])"
      ],
      "execution_count": 0,
      "outputs": []
    },
    {
      "cell_type": "markdown",
      "metadata": {
        "id": "1EaOqZW_ELvY",
        "colab_type": "text"
      },
      "source": [
        "### Assigning bias and weights to null tensors"
      ]
    },
    {
      "cell_type": "markdown",
      "metadata": {
        "id": "INKeXf4-ELvZ",
        "colab_type": "text"
      },
      "source": [
        "Now we are going to create the weights and biases, for this purpose they will be used as arrays filled with zeros. The values that we choose here can be critical, but we'll cover a better way on the second part, instead of this type of initialization."
      ]
    },
    {
      "cell_type": "code",
      "metadata": {
        "id": "VLTBZ_t-ELva",
        "colab_type": "code",
        "colab": {}
      },
      "source": [
        "# Weight tensor\n",
        "W = tf.Variable(tf.zeros([784,10],tf.float32))\n",
        "# Bias tensor\n",
        "b = tf.Variable(tf.zeros([10],tf.float32))"
      ],
      "execution_count": 0,
      "outputs": []
    },
    {
      "cell_type": "markdown",
      "metadata": {
        "id": "o6PEBEQjELvd",
        "colab_type": "text"
      },
      "source": [
        "### Execute the assignment operation "
      ]
    },
    {
      "cell_type": "markdown",
      "metadata": {
        "id": "Z5KLXobUELve",
        "colab_type": "text"
      },
      "source": [
        "Before, we assigned the weights and biases but we did not initialize them with null values. For this reason, TensorFlow need to initialize the variables that you assign.  \n",
        "Please notice that we're using this notation \"sess.run\" because we previously started an interactive session."
      ]
    },
    {
      "cell_type": "code",
      "metadata": {
        "id": "JXFJnVtIELve",
        "colab_type": "code",
        "colab": {}
      },
      "source": [
        "# run the op initialize_all_variables using an interactive session\n",
        "sess.run(tf.initialize_all_variables())"
      ],
      "execution_count": 0,
      "outputs": []
    },
    {
      "cell_type": "markdown",
      "metadata": {
        "id": "caPwJgOmELvh",
        "colab_type": "text"
      },
      "source": [
        "### Adding Weights and Biases to input"
      ]
    },
    {
      "cell_type": "markdown",
      "metadata": {
        "id": "MPV7x2_4ELvi",
        "colab_type": "text"
      },
      "source": [
        "The only difference from our next operation to the picture below is that we are using the mathematical convention for what is being executed in the illustration. The tf.matmul operation performs a matrix multiplication between x (inputs) and W (weights) and after the code add biases."
      ]
    },
    {
      "cell_type": "markdown",
      "metadata": {
        "id": "IS71E6FIELvj",
        "colab_type": "text"
      },
      "source": [
        "\n",
        "<img src=\"https://ibm.box.com/shared/static/88ksiymk1xkb10rgk0jwr3jw814jbfxo.png\" alt=\"HTML5 Icon\" style=\"width:400px;height:350px;\"> \n",
        "<div style=\"text-align:center\">Illustration showing how weights and biases are added to neurons/nodes. </div>\n"
      ]
    },
    {
      "cell_type": "code",
      "metadata": {
        "id": "-GbWUCTyELvj",
        "colab_type": "code",
        "outputId": "18d02faa-2e4e-4146-d724-864370239f3d",
        "colab": {
          "base_uri": "https://localhost:8080/",
          "height": 35
        }
      },
      "source": [
        "#mathematical operation to add weights and biases to the inputs\n",
        "tf.matmul(x,W) + b"
      ],
      "execution_count": 77,
      "outputs": [
        {
          "output_type": "execute_result",
          "data": {
            "text/plain": [
              "<tf.Tensor 'add_10:0' shape=(?, 10) dtype=float32>"
            ]
          },
          "metadata": {
            "tags": []
          },
          "execution_count": 77
        }
      ]
    },
    {
      "cell_type": "markdown",
      "metadata": {
        "id": "ZdN1QK-mELvn",
        "colab_type": "text"
      },
      "source": [
        "### Softmax Regression"
      ]
    },
    {
      "cell_type": "markdown",
      "metadata": {
        "id": "xFl5hU5pELvo",
        "colab_type": "text"
      },
      "source": [
        "Softmax is an activation function that is normally used in classification problems. It generate the probabilities for the output. For example, our model will not be 100% sure that one digit is the number nine, instead, the answer will be a distribution of probabilities where, if the model is right, the nine number will have the larger probability.\n",
        "\n",
        "For comparison, below is the one-hot vector for a nine digit label:"
      ]
    },
    {
      "cell_type": "markdown",
      "metadata": {
        "id": "q9-e0iB1ELvp",
        "colab_type": "raw"
      },
      "source": [
        "0 --> 0  \n",
        "1 --> 0 \n",
        "2 --> 0\n",
        "3 --> 0\n",
        "4 --> 0\n",
        "5 --> 0\n",
        "6 --> 0\n",
        "7 --> 0\n",
        "8 --> 0\n",
        "9 --> 1"
      ]
    },
    {
      "cell_type": "markdown",
      "metadata": {
        "id": "qlPU5AK7ELvq",
        "colab_type": "text"
      },
      "source": [
        "A machine does not have all this certainty, so we want to know what is the best guess, but we also want to understand how sure it was and what was the second better option. Below is an example of a hypothetical distribution for a nine digit:"
      ]
    },
    {
      "cell_type": "markdown",
      "metadata": {
        "id": "bYsYYp29ELvs",
        "colab_type": "raw"
      },
      "source": [
        "0 -->.0.1%  \n",
        "1 -->...2%  \n",
        "2 -->...3%  \n",
        "3 -->...2%  \n",
        "4 -->..12%  \n",
        "5 -->..10%  \n",
        "6 -->..57%\n",
        "7 -->..20%\n",
        "8 -->..55%\n",
        "9 -->..80%  "
      ]
    },
    {
      "cell_type": "code",
      "metadata": {
        "id": "VWrKtLt-ELvu",
        "colab_type": "code",
        "colab": {}
      },
      "source": [
        "y = tf.nn.softmax(tf.matmul(x,W) + b)"
      ],
      "execution_count": 0,
      "outputs": []
    },
    {
      "cell_type": "markdown",
      "metadata": {
        "id": "m04YFZY5ELv0",
        "colab_type": "text"
      },
      "source": [
        "Logistic function output is used for the classification between two target classes 0/1. Softmax function is generalized type of logistic function. That is, Softmax can output a multiclass categorical probability distribution. "
      ]
    },
    {
      "cell_type": "markdown",
      "metadata": {
        "id": "8ef0rK7lELv2",
        "colab_type": "text"
      },
      "source": [
        "### Cost function"
      ]
    },
    {
      "cell_type": "markdown",
      "metadata": {
        "id": "fTE-dyH_ELv3",
        "colab_type": "text"
      },
      "source": [
        "It is a function that is used to minimize the difference between the right answers (labels) and estimated outputs by our Network. "
      ]
    },
    {
      "cell_type": "code",
      "metadata": {
        "id": "vNv9J70vELv4",
        "colab_type": "code",
        "colab": {}
      },
      "source": [
        "cross_entropy = tf.reduce_mean(-tf.reduce_sum(y_ * tf.log(y), reduction_indices=[1]))"
      ],
      "execution_count": 0,
      "outputs": []
    },
    {
      "cell_type": "markdown",
      "metadata": {
        "id": "g2BKdITWELv7",
        "colab_type": "text"
      },
      "source": [
        "### Type of optimization: Gradient Descent"
      ]
    },
    {
      "cell_type": "markdown",
      "metadata": {
        "id": "IgwWu6rFELv8",
        "colab_type": "text"
      },
      "source": [
        "This is the part where you configure the optimizer for you Neural Network. There are several optimizers available, in our case we will use Gradient Descent that is very well stablished."
      ]
    },
    {
      "cell_type": "code",
      "metadata": {
        "id": "rRmLOf_aELv9",
        "colab_type": "code",
        "colab": {}
      },
      "source": [
        "train_step = tf.train.GradientDescentOptimizer(0.5).minimize(cross_entropy)"
      ],
      "execution_count": 0,
      "outputs": []
    },
    {
      "cell_type": "markdown",
      "metadata": {
        "id": "hgBjMk3_ELwA",
        "colab_type": "text"
      },
      "source": [
        "### Training batches"
      ]
    },
    {
      "cell_type": "markdown",
      "metadata": {
        "id": "9h-ze02lELwA",
        "colab_type": "text"
      },
      "source": [
        "Train using minibatch Gradient Descent.\n",
        "\n",
        "In practice, Batch Gradient Descent is not often used because is too computationally expensive. The good part about this method is that you have the true gradient, but with the expensive computing task of using the whole dataset in one time. Due to this problem, Neural Networks usually use minibatch to train."
      ]
    },
    {
      "cell_type": "code",
      "metadata": {
        "id": "WmVvsZwKELwB",
        "colab_type": "code",
        "colab": {}
      },
      "source": [
        "#Load 50 training examples for each training iteration   \n",
        "for i in range(1000):\n",
        "    batch = mnist.train.next_batch(50)\n",
        "    train_step.run(feed_dict={x: batch[0], y_: batch[1]})"
      ],
      "execution_count": 0,
      "outputs": []
    },
    {
      "cell_type": "markdown",
      "metadata": {
        "id": "hqmFGQWSELwE",
        "colab_type": "text"
      },
      "source": [
        "### Test"
      ]
    },
    {
      "cell_type": "code",
      "metadata": {
        "id": "cXXzK7S5ELwF",
        "colab_type": "code",
        "outputId": "2c350e4d-fdce-4c5a-e317-fab5a76ebe68",
        "colab": {
          "base_uri": "https://localhost:8080/",
          "height": 35
        }
      },
      "source": [
        "correct_prediction = tf.equal(tf.argmax(y,1), tf.argmax(y_,1))\n",
        "accuracy = tf.reduce_mean(tf.cast(correct_prediction, tf.float32))\n",
        "acc = accuracy.eval(feed_dict={x: mnist.test.images, y_: mnist.test.labels}) * 100\n",
        "print(\"The final accuracy for the simple ANN model is: {} % \".format(acc) )"
      ],
      "execution_count": 82,
      "outputs": [
        {
          "output_type": "stream",
          "text": [
            "The final accuracy for the simple ANN model is: 91.2000000477 % \n"
          ],
          "name": "stdout"
        }
      ]
    },
    {
      "cell_type": "code",
      "metadata": {
        "id": "8HqCFz0IELwH",
        "colab_type": "code",
        "colab": {}
      },
      "source": [
        "sess.close() #finish the session"
      ],
      "execution_count": 0,
      "outputs": []
    },
    {
      "cell_type": "markdown",
      "metadata": {
        "id": "Hl93KJ3QELwJ",
        "colab_type": "text"
      },
      "source": [
        "---"
      ]
    },
    {
      "cell_type": "markdown",
      "metadata": {
        "id": "O38ys5j9ELwL",
        "colab_type": "text"
      },
      "source": [
        "<a id=\"ref4\"></a>\n",
        "# Evaluating the final result"
      ]
    },
    {
      "cell_type": "markdown",
      "metadata": {
        "id": "g9e8-BXSELwl",
        "colab_type": "text"
      },
      "source": [
        "Is the final result good?\n",
        "\n",
        "Let's check the best algorithm available out there (10th june 2016):\n",
        "  \n",
        "_Result:_ 0.21% error (99.79% accuracy)  \n",
        "<a href=\"http://cs.nyu.edu/~wanli/dropc/\">Reference here</a>"
      ]
    },
    {
      "cell_type": "markdown",
      "metadata": {
        "id": "CB1G4DCBELwm",
        "colab_type": "text"
      },
      "source": [
        "<a id=\"ref5\"></a>\n",
        "# How to improve our model?"
      ]
    },
    {
      "cell_type": "markdown",
      "metadata": {
        "collapsed": true,
        "id": "DWZ3IamOELwm",
        "colab_type": "text"
      },
      "source": [
        "#### Several options as follow:\n",
        "- Regularization of Neural Networks using DropConnect\n",
        "- Multi-column Deep Neural Networks for Image Classiﬁcation \n",
        "- APAC: Augmented Pattern Classification with Neural Networks\n",
        "- Simple Deep Neural Network with Dropout\n",
        "\n",
        "#### In the next part we are going to explore the option:\n",
        "- Simple Deep Neural Network with Dropout (more than 1 hidden layer)"
      ]
    },
    {
      "cell_type": "markdown",
      "metadata": {
        "id": "0wGkJoHtELwn",
        "colab_type": "text"
      },
      "source": [
        "---"
      ]
    },
    {
      "cell_type": "markdown",
      "metadata": {
        "id": "2lKtE4xzELwo",
        "colab_type": "text"
      },
      "source": [
        "<a id=\"ref6\"></a>\n",
        "# 2nd part: Deep Learning applied on MNIST"
      ]
    },
    {
      "cell_type": "markdown",
      "metadata": {
        "id": "XD975Eo2ELwo",
        "colab_type": "text"
      },
      "source": [
        "In the first part, we learned how to use a simple ANN to classify MNIST. Now we are going to expand our knowledge using a Deep Neural Network. \n",
        "\n",
        "\n",
        "Architecture of our network is:\n",
        "    \n",
        "- (Input) -> [batch_size, 28, 28, 1]  >> Apply 32 filter of [5x5]\n",
        "- (Convolutional layer 1)  -> [batch_size, 28, 28, 32]\n",
        "- (ReLU 1)  -> [?, 28, 28, 32]\n",
        "- (Max pooling 1) -> [?, 14, 14, 32]\n",
        "- (Convolutional layer 2)  -> [?, 14, 14, 64] \n",
        "- (ReLU 2)  -> [?, 14, 14, 64] \n",
        "- (Max pooling 2)  -> [?, 7, 7, 64] \n",
        "- [fully connected layer 3] -> [1x1024]\n",
        "- [ReLU 3]  -> [1x1024]\n",
        "- [Drop out]  -> [1x1024]\n",
        "- [fully connected layer 4] -> [1x10]\n",
        "\n",
        "\n",
        "The next cells will explore this new architecture."
      ]
    },
    {
      "cell_type": "markdown",
      "metadata": {
        "id": "h20K5UzXELwp",
        "colab_type": "text"
      },
      "source": [
        "### Starting the code"
      ]
    },
    {
      "cell_type": "code",
      "metadata": {
        "id": "xK74gUi3ELwq",
        "colab_type": "code",
        "colab": {}
      },
      "source": [
        "import tensorflow as tf\n",
        "\n",
        "# finish possible remaining session\n",
        "sess.close()\n",
        "\n",
        "#Start interactive session\n",
        "sess = tf.InteractiveSession()"
      ],
      "execution_count": 0,
      "outputs": []
    },
    {
      "cell_type": "markdown",
      "metadata": {
        "id": "i-h8QtVTELws",
        "colab_type": "text"
      },
      "source": [
        "### The MNIST data"
      ]
    },
    {
      "cell_type": "code",
      "metadata": {
        "id": "hDun1GgEELwu",
        "colab_type": "code",
        "outputId": "0167fefd-442e-4840-9c85-e16a0add2d9e",
        "colab": {
          "base_uri": "https://localhost:8080/",
          "height": 91
        }
      },
      "source": [
        "from tensorflow.examples.tutorials.mnist import input_data\n",
        "mnist = input_data.read_data_sets('MNIST_data', one_hot=True)"
      ],
      "execution_count": 85,
      "outputs": [
        {
          "output_type": "stream",
          "text": [
            "Extracting MNIST_data/train-images-idx3-ubyte.gz\n",
            "Extracting MNIST_data/train-labels-idx1-ubyte.gz\n",
            "Extracting MNIST_data/t10k-images-idx3-ubyte.gz\n",
            "Extracting MNIST_data/t10k-labels-idx1-ubyte.gz\n"
          ],
          "name": "stdout"
        }
      ]
    },
    {
      "cell_type": "markdown",
      "metadata": {
        "id": "FzerUlD9ELwx",
        "colab_type": "text"
      },
      "source": [
        "### Initial parameters"
      ]
    },
    {
      "cell_type": "markdown",
      "metadata": {
        "id": "-Z6IZ-Y0ELwy",
        "colab_type": "text"
      },
      "source": [
        "Create general parameters for the model"
      ]
    },
    {
      "cell_type": "code",
      "metadata": {
        "id": "Be3auhBvELwz",
        "colab_type": "code",
        "colab": {}
      },
      "source": [
        "width = 28 # width of the image in pixels \n",
        "height = 28 # height of the image in pixels\n",
        "flat = width * height # number of pixels in one image \n",
        "class_output = 10 # number of possible classifications for the problem"
      ],
      "execution_count": 0,
      "outputs": []
    },
    {
      "cell_type": "markdown",
      "metadata": {
        "id": "aHAzpAasELw2",
        "colab_type": "text"
      },
      "source": [
        "### Input and output"
      ]
    },
    {
      "cell_type": "markdown",
      "metadata": {
        "id": "XMiLTNl8ELw3",
        "colab_type": "text"
      },
      "source": [
        "Create place holders for inputs and outputs"
      ]
    },
    {
      "cell_type": "code",
      "metadata": {
        "id": "0eaSUKKIELw3",
        "colab_type": "code",
        "colab": {}
      },
      "source": [
        "x  = tf.placeholder(tf.float32, shape=[None, flat])\n",
        "y_ = tf.placeholder(tf.float32, shape=[None, class_output])"
      ],
      "execution_count": 0,
      "outputs": []
    },
    {
      "cell_type": "markdown",
      "metadata": {
        "id": "-YT8HKgwELw5",
        "colab_type": "text"
      },
      "source": [
        "#### Converting images of the data set to tensors"
      ]
    },
    {
      "cell_type": "markdown",
      "metadata": {
        "id": "8PWEaqXmELw6",
        "colab_type": "text"
      },
      "source": [
        "The input image is a 28 pixels by 28 pixels, 1 channel (grayscale). In this case, the first dimension is the __batch number__ of the image, and can be of any size (so we set it to -1). The second and third dimensions are width and hight, and the last one is the image channels."
      ]
    },
    {
      "cell_type": "code",
      "metadata": {
        "id": "j0eOVqAFELw7",
        "colab_type": "code",
        "outputId": "477c70b9-e207-4a73-f7aa-4ddb7fa728eb",
        "colab": {
          "base_uri": "https://localhost:8080/",
          "height": 35
        }
      },
      "source": [
        "x_image = tf.reshape(x, [-1,28,28,1])  \n",
        "x_image"
      ],
      "execution_count": 88,
      "outputs": [
        {
          "output_type": "execute_result",
          "data": {
            "text/plain": [
              "<tf.Tensor 'Reshape_4:0' shape=(?, 28, 28, 1) dtype=float32>"
            ]
          },
          "metadata": {
            "tags": []
          },
          "execution_count": 88
        }
      ]
    },
    {
      "cell_type": "markdown",
      "metadata": {
        "id": "qk_ShNeeELxA",
        "colab_type": "text"
      },
      "source": [
        "### Convolutional Layer 1"
      ]
    },
    {
      "cell_type": "markdown",
      "metadata": {
        "id": "9otkLMcSELxB",
        "colab_type": "text"
      },
      "source": [
        "#### Defining kernel weight and bias\n",
        "We define a kernle here. The Size of the filter/kernel is 5x5;  Input channels is 1 (greyscale);  and we need 32 different feature maps (here, 32 feature maps means 32 different filters are applied on each image. So, the output of convolution layer would be 28x28x32). In this step, we create a filter / kernel tensor of shape `[filter_height, filter_width, in_channels, out_channels]`"
      ]
    },
    {
      "cell_type": "code",
      "metadata": {
        "id": "smACQgMPELxC",
        "colab_type": "code",
        "colab": {}
      },
      "source": [
        "W_conv1 = tf.Variable(tf.truncated_normal([5, 5, 1, 32], stddev=0.1))\n",
        "b_conv1 = tf.Variable(tf.constant(0.1, shape=[32])) # need 32 biases for 32 outputs"
      ],
      "execution_count": 0,
      "outputs": []
    },
    {
      "cell_type": "markdown",
      "metadata": {
        "id": "nadcDO3GELxP",
        "colab_type": "text"
      },
      "source": [
        "<img src=\"https://ibm.box.com/shared/static/vn26neef1nnv2oxn5cb3uueowcawhkgb.png\" style=\"width:800px;height:400px;\" alt=\"HTML5 Icon\" >\n",
        "\n",
        "#### Convolve with weight tensor and add biases.\n",
        "\n",
        "To creat convolutional layer, we use __tf.nn.conv2d__. It computes a 2-D convolution given 4-D input and filter tensors.\n",
        "\n",
        "Inputs:\n",
        "- tensor of shape [batch, in_height, in_width, in_channels]. x of shape [batch_size,28 ,28, 1]\n",
        "- a filter / kernel tensor of shape [filter_height, filter_width, in_channels, out_channels]. W is of size [5, 5, 1, 32]\n",
        "- stride which is  [1, 1, 1, 1]. The convolutional layer, slides the \"kernel window\" across the input tensor. As the input tensor has 4 dimensions:  [batch, height, width, channels], then the convolution operates on a 2D window on the height and width dimensions. __strides__ determines how much the window shifts by in each of the dimensions. As the first and last dimensions are related to batch and channels, we set the stride to 1. But for second and third dimension, we coould set other values, e.g. [1, 2, 2, 1]\n",
        "    \n",
        "    \n",
        "Process:\n",
        "- Change the filter to a 2-D matrix with shape [5\\*5\\*1,32]\n",
        "- Extracts image patches from the input tensor to form a *virtual* tensor of shape `[batch, 28, 28, 5*5*1]`.\n",
        "- For each batch, right-multiplies the filter matrix and the image vector.\n",
        "\n",
        "Output:\n",
        "- A `Tensor` (a 2-D convolution) of size <tf.Tensor 'add_7:0' shape=(?, 28, 28, 32)- Notice: the output of the first convolution layer is 32 [28x28] images. Here 32 is considered as volume/depth of the output image."
      ]
    },
    {
      "cell_type": "code",
      "metadata": {
        "id": "7a9rsEB4ELxQ",
        "colab_type": "code",
        "colab": {}
      },
      "source": [
        "convolve1= tf.nn.conv2d(x_image, W_conv1, strides=[1, 1, 1, 1], padding='SAME') + b_conv1"
      ],
      "execution_count": 0,
      "outputs": []
    },
    {
      "cell_type": "markdown",
      "metadata": {
        "id": "5xGyLXWeELxS",
        "colab_type": "text"
      },
      "source": [
        "<img src=\"https://ibm.box.com/shared/static/iizf4ui4b2hh9wn86pplqxu27ykpqci9.png\" style=\"width:800px;height:400px;\" alt=\"HTML5 Icon\" >\n"
      ]
    },
    {
      "cell_type": "markdown",
      "metadata": {
        "id": "5bhZ93y0ELxT",
        "colab_type": "text"
      },
      "source": [
        "#### Apply the ReLU activation Function"
      ]
    },
    {
      "cell_type": "markdown",
      "metadata": {
        "id": "ThSWsunxELxT",
        "colab_type": "text"
      },
      "source": [
        "In this step, we just go through all outputs convolution layer, __covolve1__, and wherever a negative number occurs,we swap it out for a 0. It is called ReLU activation Function."
      ]
    },
    {
      "cell_type": "code",
      "metadata": {
        "id": "TG6I1oOyELxU",
        "colab_type": "code",
        "colab": {}
      },
      "source": [
        "h_conv1 = tf.nn.relu(convolve1)"
      ],
      "execution_count": 0,
      "outputs": []
    },
    {
      "cell_type": "markdown",
      "metadata": {
        "collapsed": true,
        "id": "ZhjCch2HELxX",
        "colab_type": "text"
      },
      "source": [
        "#### Apply the max pooling"
      ]
    },
    {
      "cell_type": "markdown",
      "metadata": {
        "id": "RB0Q4VUZELxZ",
        "colab_type": "text"
      },
      "source": [
        "__max pooling__ is a form of non-linear down-sampling. It partitions the input image into a set of rectangles and, and then find the maximum value for that region. \n",
        "\n",
        "Lets use __tf.nn.max_pool__ function to perform max pooling. \n",
        "__Kernel size:__ 2x2 (if the window is a 2x2 matrix, it would result in one output pixel)  \n",
        "__Strides:__ dictates the sliding behaviour of the kernel. In this case it will move 2 pixels everytime, thus not overlapping. The input is a matix of size 14x14x32, and the output would be a matrix of size 14x14x32.\n",
        "\n",
        "<img src=\"https://ibm.box.com/shared/static/kmaja90mn3aud9mro9cn8pbbg1h5pejy.png\" alt=\"HTML5 Icon\" style=\"width:800px;height:400px;\"> \n",
        "\n"
      ]
    },
    {
      "cell_type": "code",
      "metadata": {
        "id": "6Mtd0XyzELxc",
        "colab_type": "code",
        "outputId": "8fb37120-02c3-4615-c17a-07e6ce5286a5",
        "colab": {
          "base_uri": "https://localhost:8080/",
          "height": 35
        }
      },
      "source": [
        "conv1 = tf.nn.max_pool(h_conv1, ksize=[1, 2, 2, 1], strides=[1, 2, 2, 1], padding='SAME') #max_pool_2x2\n",
        "conv1"
      ],
      "execution_count": 92,
      "outputs": [
        {
          "output_type": "execute_result",
          "data": {
            "text/plain": [
              "<tf.Tensor 'MaxPool_4:0' shape=(?, 14, 14, 32) dtype=float32>"
            ]
          },
          "metadata": {
            "tags": []
          },
          "execution_count": 92
        }
      ]
    },
    {
      "cell_type": "markdown",
      "metadata": {
        "id": "8hre7eHzELxi",
        "colab_type": "text"
      },
      "source": [
        "First layer completed"
      ]
    },
    {
      "cell_type": "markdown",
      "metadata": {
        "id": "Bl8-mBhXELxj",
        "colab_type": "text"
      },
      "source": [
        "### Convolutional Layer 2\n",
        "#### Weights and Biases of kernels"
      ]
    },
    {
      "cell_type": "markdown",
      "metadata": {
        "id": "9bvC36z6ELxk",
        "colab_type": "text"
      },
      "source": [
        "We apply the convolution again in this layer. Lets look at the second layer kernel:  \n",
        "- Filter/kernel: 5x5 (25 pixels) \n",
        "- Input channels: 32 (from the 1st Conv layer, we had 32 feature maps) \n",
        "- 64 output feature maps  \n",
        "\n",
        "__Notice:__ here, the input image is [14x14x32], the filter is [5x5x32], we use 64 filters of size [5x5x32], and the output of the convolutional layer would be 64 covolved image, [14x14x64].\n",
        "\n",
        "__Notice:__ the convolution result of applying a filter of size [5x5x32] on image of size [14x14x32] is an image of size [14x14x1], that is, the convolution is functioning on volume."
      ]
    },
    {
      "cell_type": "code",
      "metadata": {
        "id": "ejnizBtIELxk",
        "colab_type": "code",
        "colab": {}
      },
      "source": [
        "W_conv2 = tf.Variable(tf.truncated_normal([5, 5, 32, 64], stddev=0.1))\n",
        "b_conv2 = tf.Variable(tf.constant(0.1, shape=[64])) #need 64 biases for 64 outputs"
      ],
      "execution_count": 0,
      "outputs": []
    },
    {
      "cell_type": "markdown",
      "metadata": {
        "id": "A_xcIscZELxm",
        "colab_type": "text"
      },
      "source": [
        "#### Convolve image with weight tensor and add biases."
      ]
    },
    {
      "cell_type": "code",
      "metadata": {
        "id": "rsqWzH0RELxn",
        "colab_type": "code",
        "colab": {}
      },
      "source": [
        "convolve2= tf.nn.conv2d(conv1, W_conv2, strides=[1, 1, 1, 1], padding='SAME')+ b_conv2"
      ],
      "execution_count": 0,
      "outputs": []
    },
    {
      "cell_type": "markdown",
      "metadata": {
        "id": "J_NJNnh5ELxp",
        "colab_type": "text"
      },
      "source": [
        "#### Apply the ReLU activation Function"
      ]
    },
    {
      "cell_type": "code",
      "metadata": {
        "id": "Gxz2MLthELxp",
        "colab_type": "code",
        "colab": {}
      },
      "source": [
        "h_conv2 = tf.nn.relu(convolve2)"
      ],
      "execution_count": 0,
      "outputs": []
    },
    {
      "cell_type": "markdown",
      "metadata": {
        "collapsed": true,
        "id": "_7TtZbDtELxr",
        "colab_type": "text"
      },
      "source": [
        "#### Apply the max pooling"
      ]
    },
    {
      "cell_type": "code",
      "metadata": {
        "id": "umcbCp_uELxs",
        "colab_type": "code",
        "outputId": "95281a2f-b20d-4e72-d17b-a593b0c4cec1",
        "colab": {
          "base_uri": "https://localhost:8080/",
          "height": 0
        }
      },
      "source": [
        "conv2 = tf.nn.max_pool(h_conv2, ksize=[1, 2, 2, 1], strides=[1, 2, 2, 1], padding='SAME') #max_pool_2x2\n",
        "conv2"
      ],
      "execution_count": 96,
      "outputs": [
        {
          "output_type": "execute_result",
          "data": {
            "text/plain": [
              "<tf.Tensor 'MaxPool_5:0' shape=(?, 7, 7, 64) dtype=float32>"
            ]
          },
          "metadata": {
            "tags": []
          },
          "execution_count": 96
        }
      ]
    },
    {
      "cell_type": "markdown",
      "metadata": {
        "id": "2a8x5qrCELxu",
        "colab_type": "text"
      },
      "source": [
        "Second layer completed. So, what is the output of the second layer, layer2?\n",
        "- it is 64 matrix of [7x7]\n"
      ]
    },
    {
      "cell_type": "markdown",
      "metadata": {
        "id": "mdK5vukOS8hj",
        "colab_type": "text"
      },
      "source": [
        "#Convolutional Layer 3"
      ]
    },
    {
      "cell_type": "markdown",
      "metadata": {
        "id": "pMOvJicJTGA_",
        "colab_type": "text"
      },
      "source": [
        "###Weights and Biases of Kernels"
      ]
    },
    {
      "cell_type": "code",
      "metadata": {
        "id": "nQZpP8bfTBBD",
        "colab_type": "code",
        "colab": {}
      },
      "source": [
        "W_conv3 = tf.Variable(tf.truncated_normal([5, 5, 32, 128], stddev=0.1))\n",
        "b_conv3 = tf.Variable(tf.constant(0.1, shape=[128])) #need 128 biases for 128 outputs"
      ],
      "execution_count": 0,
      "outputs": []
    },
    {
      "cell_type": "markdown",
      "metadata": {
        "id": "otQzDf82TKFY",
        "colab_type": "text"
      },
      "source": [
        "###Convolve image with weight tensor and add biases"
      ]
    },
    {
      "cell_type": "code",
      "metadata": {
        "id": "0P4R-O3HTQPy",
        "colab_type": "code",
        "colab": {}
      },
      "source": [
        "convolve3= tf.nn.conv2d(conv2, W_conv3, strides=[1, 1, 1, 1], padding='SAME')+ b_conv3"
      ],
      "execution_count": 0,
      "outputs": []
    },
    {
      "cell_type": "markdown",
      "metadata": {
        "id": "iT2NPlDJTsOY",
        "colab_type": "text"
      },
      "source": [
        "###Apply the ReLU activation"
      ]
    },
    {
      "cell_type": "code",
      "metadata": {
        "id": "z-oVEZ03Trde",
        "colab_type": "code",
        "colab": {}
      },
      "source": [
        "h_conv3 = tf.nn.relu(convolve3)"
      ],
      "execution_count": 0,
      "outputs": []
    },
    {
      "cell_type": "markdown",
      "metadata": {
        "id": "rhVW6ekATf_V",
        "colab_type": "text"
      },
      "source": [
        "###Apply the max pooling"
      ]
    },
    {
      "cell_type": "code",
      "metadata": {
        "id": "i5_U6jJHTjWr",
        "colab_type": "code",
        "outputId": "8bbe7046-99fb-4e27-d809-5901e21c7484",
        "colab": {
          "base_uri": "https://localhost:8080/",
          "height": 35
        }
      },
      "source": [
        "conv3 = tf.nn.max_pool(h_conv3, ksize=[1, 2, 2, 1], strides=[1, 1, 1, 1], padding='SAME') #max_pool_2x2\n",
        "conv3"
      ],
      "execution_count": 100,
      "outputs": [
        {
          "output_type": "execute_result",
          "data": {
            "text/plain": [
              "<tf.Tensor 'MaxPool_6:0' shape=(?, 7, 7, 128) dtype=float32>"
            ]
          },
          "metadata": {
            "tags": []
          },
          "execution_count": 100
        }
      ]
    },
    {
      "cell_type": "markdown",
      "metadata": {
        "id": "awEMY5ffELxu",
        "colab_type": "text"
      },
      "source": [
        "### Fully Connected Layer"
      ]
    },
    {
      "cell_type": "markdown",
      "metadata": {
        "id": "DRvc8Y2kELxv",
        "colab_type": "text"
      },
      "source": [
        "You need a fully connected layer to use the Softmax and create the probabilities in the end. Fully connected layers take the high-level filtered images from previous layer, that is all 64 matrics, and convert them to a flat array.\n",
        "\n",
        "So, each matrix [7x7] will be converted to a matrix of [49x1], and then all of the 64 matrix will be connected, which make an array of size [3136x1]. We will connect it into another layer of size [1024x1]. So, the weight between these 2 layers will be [3136x1024]\n",
        "\n",
        "\n",
        "<img src=\"https://ibm.box.com/shared/static/pr9mnirmlrzm2bitf1d4jj389hyvv7ey.png\" alt=\"HTML5 Icon\" style=\"width:800px;height:400px;\"> \n"
      ]
    },
    {
      "cell_type": "markdown",
      "metadata": {
        "id": "PuEFij-SELxw",
        "colab_type": "text"
      },
      "source": [
        "#### Flattening Second Layer"
      ]
    },
    {
      "cell_type": "code",
      "metadata": {
        "id": "ikKJjmD0ELxw",
        "colab_type": "code",
        "colab": {}
      },
      "source": [
        "layer2_matrix = tf.reshape(conv2, [-1, 7*7*64])"
      ],
      "execution_count": 0,
      "outputs": []
    },
    {
      "cell_type": "markdown",
      "metadata": {
        "id": "D_itteFTELx0",
        "colab_type": "text"
      },
      "source": [
        "#### Weights and Biases between layer 2 and 3"
      ]
    },
    {
      "cell_type": "markdown",
      "metadata": {
        "id": "F7t_R5lQELx0",
        "colab_type": "text"
      },
      "source": [
        "Composition of the feature map from the last layer (7x7) multiplied by the number of feature maps (64); 1027 outputs to Softmax layer"
      ]
    },
    {
      "cell_type": "code",
      "metadata": {
        "id": "qzeAKh0dELx1",
        "colab_type": "code",
        "colab": {}
      },
      "source": [
        "W_fc1 = tf.Variable(tf.truncated_normal([7 * 7 * 64, 1024], stddev=0.1))\n",
        "b_fc1 = tf.Variable(tf.constant(0.1, shape=[1024])) # need 1024 biases for 1024 outputs"
      ],
      "execution_count": 0,
      "outputs": []
    },
    {
      "cell_type": "markdown",
      "metadata": {
        "id": "wnbTR6-qELx3",
        "colab_type": "text"
      },
      "source": [
        "#### Matrix Multiplication (applying weights and biases)"
      ]
    },
    {
      "cell_type": "code",
      "metadata": {
        "id": "yaoAXRoaELx3",
        "colab_type": "code",
        "colab": {}
      },
      "source": [
        "fcl=tf.matmul(layer2_matrix, W_fc1) + b_fc1"
      ],
      "execution_count": 0,
      "outputs": []
    },
    {
      "cell_type": "markdown",
      "metadata": {
        "id": "sGVNCXOeELx5",
        "colab_type": "text"
      },
      "source": [
        "#### Apply the ReLU activation Function"
      ]
    },
    {
      "cell_type": "code",
      "metadata": {
        "id": "tQ9P-hF3ELx6",
        "colab_type": "code",
        "outputId": "9d63ae1b-4467-4a12-d870-ddb7383b11e7",
        "colab": {
          "base_uri": "https://localhost:8080/",
          "height": 35
        }
      },
      "source": [
        "h_fc1 = tf.nn.relu(fcl)\n",
        "h_fc1"
      ],
      "execution_count": 104,
      "outputs": [
        {
          "output_type": "execute_result",
          "data": {
            "text/plain": [
              "<tf.Tensor 'Relu_9:0' shape=(?, 1024) dtype=float32>"
            ]
          },
          "metadata": {
            "tags": []
          },
          "execution_count": 104
        }
      ]
    },
    {
      "cell_type": "markdown",
      "metadata": {
        "id": "QJ7pfPdYELx-",
        "colab_type": "text"
      },
      "source": [
        "Third layer completed"
      ]
    },
    {
      "cell_type": "markdown",
      "metadata": {
        "id": "_uorw8DtELyA",
        "colab_type": "text"
      },
      "source": [
        "#### Dropout Layer, Optional phase for reducing overfitting"
      ]
    },
    {
      "cell_type": "markdown",
      "metadata": {
        "id": "mfWfTwBgELyB",
        "colab_type": "text"
      },
      "source": [
        "It is a phase where the network \"forget\" some features. At each training step in a mini-batch, some units get switched off randomly so that it will not interact with the network. That is, it weights cannot be updated, nor affect the learning of the other network nodes.  This can be very useful for very large neural networks to prevent overfitting."
      ]
    },
    {
      "cell_type": "code",
      "metadata": {
        "id": "wtFJYiiCELyC",
        "colab_type": "code",
        "outputId": "7155b6bb-131c-4952-bd77-5b079445dfc9",
        "colab": {
          "base_uri": "https://localhost:8080/",
          "height": 35
        }
      },
      "source": [
        "keep_prob = tf.placeholder(tf.float32)\n",
        "layer_drop = tf.nn.dropout(h_fc1, keep_prob)\n",
        "layer_drop"
      ],
      "execution_count": 105,
      "outputs": [
        {
          "output_type": "execute_result",
          "data": {
            "text/plain": [
              "<tf.Tensor 'dropout_2/mul_1:0' shape=(?, 1024) dtype=float32>"
            ]
          },
          "metadata": {
            "tags": []
          },
          "execution_count": 105
        }
      ]
    },
    {
      "cell_type": "markdown",
      "metadata": {
        "id": "5lX8BsB8ELyE",
        "colab_type": "text"
      },
      "source": [
        "###  Readout Layer (Softmax Layer)"
      ]
    },
    {
      "cell_type": "markdown",
      "metadata": {
        "id": "e4-u1Br5ELyE",
        "colab_type": "text"
      },
      "source": [
        "Type: Softmax, Fully Connected Layer."
      ]
    },
    {
      "cell_type": "markdown",
      "metadata": {
        "id": "T1P3d9rrELyF",
        "colab_type": "text"
      },
      "source": [
        "#### Weights and Biases"
      ]
    },
    {
      "cell_type": "markdown",
      "metadata": {
        "id": "VOBefMDkELyF",
        "colab_type": "text"
      },
      "source": [
        "In last layer, CNN takes the high-level filtered images and translate them into votes using softmax.\n",
        "Input channels: 1024 (neurons from the 3rd Layer); 10 output features"
      ]
    },
    {
      "cell_type": "code",
      "metadata": {
        "id": "xPub52NpELyG",
        "colab_type": "code",
        "colab": {}
      },
      "source": [
        "W_fc2 = tf.Variable(tf.truncated_normal([1024, 10], stddev=0.1)) #1024 neurons\n",
        "b_fc2 = tf.Variable(tf.constant(0.1, shape=[10])) # 10 possibilities for digits [0,1,2,3,4,5,6,7,8,9]"
      ],
      "execution_count": 0,
      "outputs": []
    },
    {
      "cell_type": "markdown",
      "metadata": {
        "id": "OSCQYnZqELyI",
        "colab_type": "text"
      },
      "source": [
        "#### Matrix Multiplication (applying weights and biases)"
      ]
    },
    {
      "cell_type": "code",
      "metadata": {
        "id": "uyUpIdw3ELyL",
        "colab_type": "code",
        "colab": {}
      },
      "source": [
        "fc=tf.matmul(layer_drop, W_fc2) + b_fc2"
      ],
      "execution_count": 0,
      "outputs": []
    },
    {
      "cell_type": "markdown",
      "metadata": {
        "id": "mWGu1-hFELyQ",
        "colab_type": "text"
      },
      "source": [
        "#### Apply the Softmax activation Function\n",
        "__softmax__ allows us to interpret the outputs of __fcl4__ as probabilities. So, __y_conv__ is a tensor of probablities."
      ]
    },
    {
      "cell_type": "code",
      "metadata": {
        "id": "MH4i5FWsELyR",
        "colab_type": "code",
        "outputId": "5711a5d4-d20a-4065-93fb-37b34b5b163a",
        "colab": {
          "base_uri": "https://localhost:8080/",
          "height": 35
        }
      },
      "source": [
        "y_CNN= tf.nn.softmax(fc)\n",
        "y_CNN"
      ],
      "execution_count": 108,
      "outputs": [
        {
          "output_type": "execute_result",
          "data": {
            "text/plain": [
              "<tf.Tensor 'Softmax_4:0' shape=(?, 10) dtype=float32>"
            ]
          },
          "metadata": {
            "tags": []
          },
          "execution_count": 108
        }
      ]
    },
    {
      "cell_type": "markdown",
      "metadata": {
        "id": "SpAEEqWMELyU",
        "colab_type": "text"
      },
      "source": [
        "---"
      ]
    },
    {
      "cell_type": "markdown",
      "metadata": {
        "id": "bQ25X_NkELyV",
        "colab_type": "text"
      },
      "source": [
        "<a id=\"ref7\"></a>\n",
        "# Summary of the Deep Convolutional Neural Network"
      ]
    },
    {
      "cell_type": "markdown",
      "metadata": {
        "id": "v2F1vFgWELyW",
        "colab_type": "text"
      },
      "source": [
        "Now is time to remember the structure of  our network"
      ]
    },
    {
      "cell_type": "markdown",
      "metadata": {
        "id": "z5vsruonELyX",
        "colab_type": "text"
      },
      "source": [
        "#### 0) Input - MNIST dataset\n",
        "#### 1) Convolutional and Max-Pooling\n",
        "#### 2) Convolutional and Max-Pooling\n",
        "#### 3) Fully Connected Layer\n",
        "#### 4) Processing - Dropout\n",
        "#### 5) Readout layer - Fully Connected\n",
        "#### 6) Outputs - Classified digits"
      ]
    },
    {
      "cell_type": "markdown",
      "metadata": {
        "id": "BMAcQKI0ELyY",
        "colab_type": "text"
      },
      "source": [
        "---"
      ]
    },
    {
      "cell_type": "markdown",
      "metadata": {
        "id": "ufw1pW-7ELyY",
        "colab_type": "text"
      },
      "source": [
        "<a id=\"ref8\"></a>\n",
        "# Define functions and train the model"
      ]
    },
    {
      "cell_type": "markdown",
      "metadata": {
        "id": "oBL2MLlUELyZ",
        "colab_type": "text"
      },
      "source": [
        "#### Define the loss function\n",
        "\n",
        "We need to compare our output, layer4 tensor, with ground truth for all mini_batch. we can use __cross entropy__ to see how bad our CNN is working - to measure the error at a softmax layer.\n",
        "\n",
        "The following code shows an toy sample of cross-entropy for a mini-batch of size 2 which its items have been classified. You can run it (first change the cell type to __code__ in the toolbar) to see hoe cross entropy changes."
      ]
    },
    {
      "cell_type": "markdown",
      "metadata": {
        "id": "wJ7nFOKrELyZ",
        "colab_type": "raw"
      },
      "source": [
        "import numpy as np\n",
        "layer4_test =[[0.9, 0.1, 0.1],[0.9, 0.1, 0.1]]\n",
        "y_test=[[1.0, 0.0, 0.0],[1.0, 0.0, 0.0]]\n",
        "np.mean( -np.sum(y_test * np.log(layer4_test),1))"
      ]
    },
    {
      "cell_type": "markdown",
      "metadata": {
        "id": "q7fwXLwvELya",
        "colab_type": "text"
      },
      "source": [
        "__reduce_sum__ computes the sum of elements of __(y_ * tf.log(layer4)__ across second dimension of the tensor, and __reduce_mean__ computes the mean of all elements in the tensor.."
      ]
    },
    {
      "cell_type": "code",
      "metadata": {
        "id": "0Hu9LddfELyb",
        "colab_type": "code",
        "colab": {}
      },
      "source": [
        "cross_entropy = tf.reduce_mean(-tf.reduce_sum(y_ * tf.log(y_CNN), reduction_indices=[1]))"
      ],
      "execution_count": 0,
      "outputs": []
    },
    {
      "cell_type": "markdown",
      "metadata": {
        "id": "yi1L6BELELye",
        "colab_type": "text"
      },
      "source": [
        "#### Define the optimizer\n",
        "\n",
        "It is obvious that we want minimize the error of our network which is calculated by cross_entropy metric. To solve the problem, we have to compute gradients for the loss (which is minimizing the cross-entropy) and apply gradients to variables. It will be done by an optimizer: GradientDescent or Adagrad. "
      ]
    },
    {
      "cell_type": "code",
      "metadata": {
        "id": "8YZExFOWELyf",
        "colab_type": "code",
        "colab": {}
      },
      "source": [
        "train_step = tf.train.AdamOptimizer(1e-4).minimize(cross_entropy)"
      ],
      "execution_count": 0,
      "outputs": []
    },
    {
      "cell_type": "markdown",
      "metadata": {
        "id": "mZ7oSxpgELyi",
        "colab_type": "text"
      },
      "source": [
        "#### Define prediction\n",
        "Do you want to know how many of the cases in a mini-batch has been classified correctly? lets count them."
      ]
    },
    {
      "cell_type": "code",
      "metadata": {
        "id": "JQ_FVOsoELyi",
        "colab_type": "code",
        "colab": {}
      },
      "source": [
        "correct_prediction = tf.equal(tf.argmax(y_CNN,1), tf.argmax(y_,1))"
      ],
      "execution_count": 0,
      "outputs": []
    },
    {
      "cell_type": "markdown",
      "metadata": {
        "id": "VEQERLpyELyk",
        "colab_type": "text"
      },
      "source": [
        "#### Define accuracy\n",
        "It makes more sense to report accuracy using average of correct cases."
      ]
    },
    {
      "cell_type": "code",
      "metadata": {
        "id": "SOfwC7Z-ELyl",
        "colab_type": "code",
        "colab": {}
      },
      "source": [
        "accuracy = tf.reduce_mean(tf.cast(correct_prediction, tf.float32))"
      ],
      "execution_count": 0,
      "outputs": []
    },
    {
      "cell_type": "markdown",
      "metadata": {
        "id": "RnV1ZIYrELym",
        "colab_type": "text"
      },
      "source": [
        "#### Run session, train"
      ]
    },
    {
      "cell_type": "code",
      "metadata": {
        "scrolled": true,
        "id": "l72CxHZJELyn",
        "colab_type": "code",
        "colab": {}
      },
      "source": [
        "sess.run(tf.global_variables_initializer())"
      ],
      "execution_count": 0,
      "outputs": []
    },
    {
      "cell_type": "markdown",
      "metadata": {
        "id": "v3zocQiKELyp",
        "colab_type": "text"
      },
      "source": [
        "*If you want a fast result (**it might take sometime to train it**)*"
      ]
    },
    {
      "cell_type": "code",
      "metadata": {
        "id": "wuDw6unhELyr",
        "colab_type": "code",
        "outputId": "6aebd395-30ca-4a03-c57f-68944a66ccec",
        "colab": {
          "base_uri": "https://localhost:8080/",
          "height": 220
        }
      },
      "source": [
        "for i in range(1100):\n",
        "    batch = mnist.train.next_batch(50)\n",
        "    if i%100 == 0:\n",
        "        train_accuracy = accuracy.eval(feed_dict={x:batch[0], y_: batch[1], keep_prob: 1.0})\n",
        "        print(\"step %d, training accuracy %g\"%(i, float(train_accuracy)))\n",
        "    train_step.run(feed_dict={x: batch[0], y_: batch[1], keep_prob: 0.5})"
      ],
      "execution_count": 114,
      "outputs": [
        {
          "output_type": "stream",
          "text": [
            "step 0, training accuracy 0.08\n",
            "step 100, training accuracy 0.76\n",
            "step 200, training accuracy 0.86\n",
            "step 300, training accuracy 0.92\n",
            "step 400, training accuracy 0.96\n",
            "step 500, training accuracy 0.92\n",
            "step 600, training accuracy 0.96\n",
            "step 700, training accuracy 0.9\n",
            "step 800, training accuracy 0.96\n",
            "step 900, training accuracy 0.92\n",
            "step 1000, training accuracy 1\n"
          ],
          "name": "stdout"
        }
      ]
    },
    {
      "cell_type": "markdown",
      "metadata": {
        "collapsed": true,
        "id": "Bh8D8gPXELyv",
        "colab_type": "text"
      },
      "source": [
        "<div class=\"alert alert-success alertsuccess\" style=\"margin-top: 20px\">\n",
        "<font size = 3><strong>*You can run this cell if you REALLY have time to wait, or you are running it using PowerAI (**change the type of the cell to code**)*</strong></font>"
      ]
    },
    {
      "cell_type": "markdown",
      "metadata": {
        "id": "PWRCwZTZELyw",
        "colab_type": "raw"
      },
      "source": [
        "for i in range(20000):\n",
        "    batch = mnist.train.next_batch(50)\n",
        "    if i%100 == 0:\n",
        "        train_accuracy = accuracy.eval(feed_dict={\n",
        "            x:batch[0], y_: batch[1], keep_prob: 1.0})\n",
        "        print(\"step %d, training accuracy %g\"%(i, train_accuracy))\n",
        "    train_step.run(feed_dict={x: batch[0], y_: batch[1], keep_prob: 0.5})"
      ]
    },
    {
      "cell_type": "markdown",
      "metadata": {
        "id": "1w-1KyRbELyx",
        "colab_type": "text"
      },
      "source": [
        "_PS. If you have problems running this notebook, please shutdown all your Jupyter runnning notebooks, clear all cells outputs and run each cell only after the completion of the previous cell._"
      ]
    },
    {
      "cell_type": "markdown",
      "metadata": {
        "id": "8UfehYA4ELyy",
        "colab_type": "text"
      },
      "source": [
        "---"
      ]
    },
    {
      "cell_type": "markdown",
      "metadata": {
        "id": "ZHmCfrAhELyy",
        "colab_type": "text"
      },
      "source": [
        "<a id=\"ref9\"></a>\n",
        "# Evaluate the model"
      ]
    },
    {
      "cell_type": "markdown",
      "metadata": {
        "id": "k3pri9zpELyz",
        "colab_type": "text"
      },
      "source": [
        "Print the evaluation to the user"
      ]
    },
    {
      "cell_type": "code",
      "metadata": {
        "id": "JsoAnv8EELy0",
        "colab_type": "code",
        "outputId": "b36c6d2e-6324-4174-f3dd-d41b4172513f",
        "colab": {
          "base_uri": "https://localhost:8080/",
          "height": 35
        }
      },
      "source": [
        "print(\"test accuracy %g\"%accuracy.eval(feed_dict={x: mnist.test.images, y_: mnist.test.labels, keep_prob: 1.0}))"
      ],
      "execution_count": 115,
      "outputs": [
        {
          "output_type": "stream",
          "text": [
            "test accuracy 0.9615\n"
          ],
          "name": "stdout"
        }
      ]
    },
    {
      "cell_type": "markdown",
      "metadata": {
        "id": "BzMGu6m4ELy2",
        "colab_type": "text"
      },
      "source": [
        "## Visualization"
      ]
    },
    {
      "cell_type": "markdown",
      "metadata": {
        "id": "ZHd1pN1NELy2",
        "colab_type": "text"
      },
      "source": [
        "Do you want to look at all the filters?"
      ]
    },
    {
      "cell_type": "code",
      "metadata": {
        "id": "npOl32G_ELy3",
        "colab_type": "code",
        "colab": {}
      },
      "source": [
        "kernels = sess.run(tf.reshape(tf.transpose(W_conv1, perm=[2, 3, 0,1]),[32,-1]))"
      ],
      "execution_count": 0,
      "outputs": []
    },
    {
      "cell_type": "code",
      "metadata": {
        "id": "sNCDSt32ELy6",
        "colab_type": "code",
        "outputId": "bbd9a351-b776-4e5b-e473-92111a755066",
        "colab": {
          "base_uri": "https://localhost:8080/",
          "height": 746
        }
      },
      "source": [
        "!wget --output-document utils1.py http://deeplearning.net/tutorial/code/utils.py\n",
        "import utils1\n",
        "from utils1 import tile_raster_images\n",
        "import matplotlib.pyplot as plt\n",
        "from PIL import Image\n",
        "%matplotlib inline\n",
        "image = Image.fromarray(tile_raster_images(kernels, img_shape=(5, 5) ,tile_shape=(4, 8), tile_spacing=(1, 1)))\n",
        "### Plot image\n",
        "plt.rcParams['figure.figsize'] = (18.0, 18.0)\n",
        "imgplot = plt.imshow(image)\n",
        "imgplot.set_cmap('gray')  "
      ],
      "execution_count": 117,
      "outputs": [
        {
          "output_type": "stream",
          "text": [
            "--2019-08-08 04:11:56--  http://deeplearning.net/tutorial/code/utils.py\n",
            "Resolving deeplearning.net (deeplearning.net)... 132.204.26.28\n",
            "Connecting to deeplearning.net (deeplearning.net)|132.204.26.28|:80... connected.\n",
            "HTTP request sent, awaiting response... 200 OK\n",
            "Length: 5097 (5.0K) [text/plain]\n",
            "Saving to: ‘utils1.py’\n",
            "\n",
            "\rutils1.py             0%[                    ]       0  --.-KB/s               \rutils1.py           100%[===================>]   4.98K  --.-KB/s    in 0s      \n",
            "\n",
            "2019-08-08 04:11:56 (455 MB/s) - ‘utils1.py’ saved [5097/5097]\n",
            "\n"
          ],
          "name": "stdout"
        },
        {
          "output_type": "display_data",
          "data": {
            "image/png": "[encoded data removed]",
            "text/plain": [
              "<Figure size 1296x1296 with 1 Axes>"
            ]
          },
          "metadata": {
            "tags": []
          }
        }
      ]
    },
    {
      "cell_type": "markdown",
      "metadata": {
        "id": "H4dPznSfELy8",
        "colab_type": "text"
      },
      "source": [
        "Do you want to see the output of an image passing through first convolution layer?\n"
      ]
    },
    {
      "cell_type": "code",
      "metadata": {
        "id": "oSx8zW3aELy8",
        "colab_type": "code",
        "outputId": "11ec6edc-3bd2-46d6-c542-b98fec4bc80d",
        "colab": {
          "base_uri": "https://localhost:8080/",
          "height": 341
        }
      },
      "source": [
        "import numpy as np\n",
        "plt.rcParams['figure.figsize'] = (5.0, 5.0)\n",
        "sampleimage = mnist.test.images[1]\n",
        "plt.imshow(np.reshape(sampleimage,[28,28]), cmap=\"gray\")"
      ],
      "execution_count": 118,
      "outputs": [
        {
          "output_type": "execute_result",
          "data": {
            "text/plain": [
              "<matplotlib.image.AxesImage at 0x7f0ef6c68490>"
            ]
          },
          "metadata": {
            "tags": []
          },
          "execution_count": 118
        },
        {
          "output_type": "display_data",
          "data": {
            "image/png": "[encoded data removed]",
            "text/plain": [
              "<Figure size 360x360 with 1 Axes>"
            ]
          },
          "metadata": {
            "tags": []
          }
        }
      ]
    },
    {
      "cell_type": "code",
      "metadata": {
        "id": "wDnWmapmELy-",
        "colab_type": "code",
        "outputId": "941d3930-3d29-48b2-c6f0-175241cdf79d",
        "colab": {
          "base_uri": "https://localhost:8080/",
          "height": 1000
        }
      },
      "source": [
        "ActivatedUnits = sess.run(convolve1,feed_dict={x:np.reshape(sampleimage,[1,784],order='F'),keep_prob:1.0})\n",
        "filters = ActivatedUnits.shape[3]\n",
        "plt.figure(1, figsize=(20,20))\n",
        "n_columns = 6\n",
        "n_rows = np.math.ceil(filters / n_columns) + 1\n",
        "for i in range(filters):\n",
        "    plt.subplot(n_rows, n_columns, i+1)\n",
        "    plt.title('Filter ' + str(i))\n",
        "    plt.imshow(ActivatedUnits[0,:,:,i], interpolation=\"nearest\", cmap=\"gray\")"
      ],
      "execution_count": 119,
      "outputs": [
        {
          "output_type": "display_data",
          "data": {
            "image/png": "[encoded data removed]",
            "text/plain": [
              "<Figure size 1440x1440 with 32 Axes>"
            ]
          },
          "metadata": {
            "tags": []
          }
        }
      ]
    },
    {
      "cell_type": "markdown",
      "metadata": {
        "id": "8axOFyVIELzC",
        "colab_type": "text"
      },
      "source": [
        "What about second convolution layer?"
      ]
    },
    {
      "cell_type": "code",
      "metadata": {
        "id": "1asqquQhELzF",
        "colab_type": "code",
        "outputId": "61a5865c-7fbb-4d82-d999-27952d5d8124",
        "colab": {
          "base_uri": "https://localhost:8080/",
          "height": 1000
        }
      },
      "source": [
        "ActivatedUnits = sess.run(convolve2,feed_dict={x:np.reshape(sampleimage,[1,784],order='F'),keep_prob:1.0})\n",
        "filters = ActivatedUnits.shape[3]\n",
        "plt.figure(1, figsize=(20,20))\n",
        "n_columns = 8\n",
        "n_rows = np.math.ceil(filters / n_columns) + 1\n",
        "for i in range(filters):\n",
        "    plt.subplot(n_rows, n_columns, i+1)\n",
        "    plt.title('Filter ' + str(i))\n",
        "    plt.imshow(ActivatedUnits[0,:,:,i], interpolation=\"nearest\", cmap=\"gray\")"
      ],
      "execution_count": 120,
      "outputs": [
        {
          "output_type": "display_data",
          "data": {
            "image/png": "[encoded data removed]",
            "text/plain": [
              "<Figure size 1440x1440 with 64 Axes>"
            ]
          },
          "metadata": {
            "tags": []
          }
        }
      ]
    },
    {
      "cell_type": "code",
      "metadata": {
        "id": "jGu7jwHsELzI",
        "colab_type": "code",
        "colab": {}
      },
      "source": [
        "sess.close() #finish the session"
      ],
      "execution_count": 0,
      "outputs": []
    },
    {
      "cell_type": "markdown",
      "metadata": {
        "id": "7RfFmHvCELzL",
        "colab_type": "text"
      },
      "source": [
        "## Want to learn more?\n",
        "\n",
        "Running deep learning programs usually needs a high performance platform. PowerAI speeds up deep learning and AI. Built on IBM's Power Systems, PowerAI is a scalable software platform that accelerates deep learning and AI with blazing performance for individual users or enterprises. The PowerAI platform supports popular machine learning libraries and dependencies including Tensorflow, Caffe, Torch, and Theano. You can download a [free version of PowerAI](https://cocl.us/ML0120EN_PAI).\n",
        "\n",
        "Also, you can use Data Science Experience to run these notebooks faster with bigger datasets. Data Science Experience is IBM's leading cloud solution for data scientists, built by data scientists. With Jupyter notebooks, RStudio, Apache Spark and popular libraries pre-packaged in the cloud, DSX enables data scientists to collaborate on their projects without having to install anything. Join the fast-growing community of DSX users today with a free account at [Data Science Experience](https://cocl.us/ML0120EN_DSX)This is the end of this lesson. Hopefully, now you have a deeper and intuitive understanding regarding the LSTM model. Thank you for reading this notebook, and good luck on your studies."
      ]
    },
    {
      "cell_type": "markdown",
      "metadata": {
        "id": "YGu6dcbXELzN",
        "colab_type": "text"
      },
      "source": [
        "### Thanks for completing this lesson!"
      ]
    },
    {
      "cell_type": "markdown",
      "metadata": {
        "id": "MF7lg7tBELzO",
        "colab_type": "text"
      },
      "source": [
        "Created by <a href = \"https://linkedin.com/in/saeedaghabozorgi\"> Saeed Aghabozorgi </a>,  <a href = \"https://linkedin.com/in/luisotsm\">Luis Otavio Silveira Martins</a>, <a href = \"https://linkedin.com/in/erich-natsubori-sato\"> Erich Natsubori Sato </a></h4>"
      ]
    },
    {
      "cell_type": "markdown",
      "metadata": {
        "id": "d1WLgDSuELzO",
        "colab_type": "text"
      },
      "source": [
        "### References:\n",
        "\n",
        "https://en.wikipedia.org/wiki/Deep_learning    \n",
        "http://sebastianruder.com/optimizing-gradient-descent/index.html#batchgradientdescent  \n",
        "http://yann.lecun.com/exdb/mnist/  \n",
        "https://www.quora.com/Artificial-Neural-Networks-What-is-the-difference-between-activation-functions  \n",
        "https://www.tensorflow.org/versions/r0.9/tutorials/mnist/pros/index.html  "
      ]
    }
  ]
}