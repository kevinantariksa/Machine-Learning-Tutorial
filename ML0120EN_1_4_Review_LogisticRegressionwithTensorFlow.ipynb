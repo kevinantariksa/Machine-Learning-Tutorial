{
  "nbformat": 4,
  "nbformat_minor": 0,
  "metadata": {
    "colab": {
      "name": "ML0120EN-1.4-Review-LogisticRegressionwithTensorFlow.ipynb",
      "version": "0.3.2",
      "provenance": [],
      "toc_visible": true
    },
    "language_info": {
      "codemirror_mode": {
        "name": "ipython",
        "version": 2
      },
      "file_extension": ".py",
      "mimetype": "text/x-python",
      "name": "python",
      "nbconvert_exporter": "python",
      "pygments_lexer": "ipython2",
      "version": "2.7.13"
    },
    "kernelspec": {
      "display_name": "Python 2",
      "language": "python",
      "name": "python2"
    }
  },
  "cells": [
    {
      "cell_type": "markdown",
      "metadata": {
        "id": "BVYnAb18HaFF",
        "colab_type": "text"
      },
      "source": [
        "<img src = \"https://i.imgur.com/UjutVJd.jpg\" align = \"center\">"
      ]
    },
    {
      "cell_type": "markdown",
      "metadata": {
        "id": "qxD3v4aBHaFJ",
        "colab_type": "text"
      },
      "source": [
        "# <h1>LOGISTIC REGRESSION WITH TENSORFLOW</h1>\n",
        "Logistic Regression is one of most important techniques in data science. It is usually used to solve the classic classification problem.\n",
        "\n",
        "# Table of Contents\n",
        "\n",
        "This lesson covers the following concepts of Logistics Regression:\n",
        "<br>\n",
        "- <p><a href=\"#ref1\">Linear Regression vs Logistic Regression</a></p>\n",
        "- <p><a href=\"#ref2\">Utilizing Logistic Regression in TensorFlow</a></p>\n",
        "- <p><a href=\"#ref3\">Training</a></p>\n",
        "<p></p>\n",
        "</div>\n",
        "----------------"
      ]
    },
    {
      "cell_type": "markdown",
      "metadata": {
        "id": "Hv6CgBbKHaFN",
        "colab_type": "text"
      },
      "source": [
        "<a id=\"ref1\"></a>\n",
        "## What is different between Linear and Logistic Regression?\n",
        "\n",
        "While Linear Regression is suited for estimating continuous values (e.g. estimating house price), it isn’t the best tool for predicting the class of an observed data point. In order to estimate a classification, we need some sort of guidance on what would be the **most probable class** for that data point. For this, we use **Logistic Regression**.\n",
        "\n",
        "<div class=\"alert alert-success alertsuccess\" style=\"margin-top: 20px\">\n",
        "<font size = 3><strong>Recall linear regression:</strong></font>\n",
        "<br>\n",
        "<br>\n",
        "Linear regression finds a function that relates a continuous dependent variable, $y$, to some predictors (independent variables $x_1$, $x_2$, etc.). Simple linear regression assumes a function of the form:\n",
        "<br><br>\n",
        "$$\n",
        "y = w_0 + w_1 * x_1 + w_2 * x_2 +...\n",
        "$$\n",
        "<br>\n",
        "and finds the values of $w_0$, $w_1$, $w_2$, etc. The term $w_0$ is the \"intercept\" or \"constant term\" (it's shown as $b$ in the formula below):\n",
        "<br><br>\n",
        "$$\n",
        "Y = WX + b\n",
        "$$\n",
        "<p></p>\n",
        "\n",
        "</div>\n",
        "\n",
        "Logistic Regression is a variation of Linear Regression, useful when the observed dependent variable, _y_, is categorical. It produces a formula that predicts the probability of the class label as a function of the independent variables.\n",
        "\n",
        "Despite the name logistic _regression_, it is actually a __probabilistic classification__ model. Logistic regression fits a special s-shaped curve by taking the linear regression and transforming the numeric estimate into a probability with the following function:\n",
        "\n",
        "$$\n",
        "ProbabilityOfaClass = \\theta(y) = \\frac{e^y}{1+e^y} = exp(y) / (1+exp(y)) = p \n",
        "$$\n",
        "\n",
        "which produces p-values between 0 (as y approaches minus infinity) and 1 (as y approaches plus infinity). This now becomes a special kind of non-linear regression.\n",
        "\n",
        "In this equation, _y_ is the regression result (the sum of the variables weighted by the coefficients), `exp` is the exponential function and $\\theta(y)$ is the [logistic function](http://en.wikipedia.org/wiki/Logistic_function), also called logistic curve. It is a common \"S\" shape (sigmoid curve), and was first developed for modelling population growth.\n",
        "\n",
        "You might also have seen this function before, in another configuration:\n",
        "\n",
        "$$\n",
        "ProbabilityOfaClass = \\theta(y) = \\frac{1}{1+e^{-x}}\n",
        "$$\n",
        "\n",
        "So, briefly, Logistic Regression passes the input through the logistic/sigmoid but then treats the result as a probability:\n",
        "\n",
        "<img src=\"https://ibm.box.com/shared/static/kgv9alcghmjcv97op4d6onkyxevk23b1.png\" width = \"400\"  align = \"center\" />\n"
      ]
    },
    {
      "cell_type": "markdown",
      "metadata": {
        "id": "mZuvscOgHaFO",
        "colab_type": "text"
      },
      "source": [
        "-------------------------------"
      ]
    },
    {
      "cell_type": "markdown",
      "metadata": {
        "id": "SIffwXmEHaFQ",
        "colab_type": "text"
      },
      "source": [
        "<a id=\"ref2\"></a>\n",
        "# Utilizing Logistic Regression in TensorFlow\n",
        "\n",
        "For us to utilize Logistic Regression in TensorFlow, we first need to import whatever libraries we are going to use. To do so, you can run the code cell below."
      ]
    },
    {
      "cell_type": "code",
      "metadata": {
        "id": "p_0QgfGdHaFR",
        "colab_type": "code",
        "colab": {}
      },
      "source": [
        "import tensorflow as tf\n",
        "import pandas as pd\n",
        "import numpy as np\n",
        "import time\n",
        "from sklearn.datasets import load_iris\n",
        "from sklearn.model_selection import train_test_split\n",
        "import matplotlib.pyplot as plt"
      ],
      "execution_count": 0,
      "outputs": []
    },
    {
      "cell_type": "markdown",
      "metadata": {
        "id": "z0SpnWT-HaFV",
        "colab_type": "text"
      },
      "source": [
        "Next, we will load the dataset we are going to use. In this case, we are utilizing the `iris` dataset, which is inbuilt -- so there's no need to do any preprocessing and we can jump right into manipulating it. We separate the dataset into _xs_ and _ys_, and then into training _xs_ and _ys_ and testing _xs_ and _ys_, (pseudo-)randomly."
      ]
    },
    {
      "cell_type": "code",
      "metadata": {
        "id": "T4QkwUiaHaFW",
        "colab_type": "code",
        "colab": {}
      },
      "source": [
        "iris = load_iris()\n",
        "iris_X, iris_y = iris.data[:-1,:], iris.target[:-1]\n",
        "iris_y= pd.get_dummies(iris_y).values\n",
        "trainX, testX, trainY, testY = train_test_split(iris_X, iris_y, test_size=0.33, random_state=42)"
      ],
      "execution_count": 0,
      "outputs": []
    },
    {
      "cell_type": "markdown",
      "metadata": {
        "id": "0HbEFz-WHaFb",
        "colab_type": "text"
      },
      "source": [
        "Now we define x and y. These placeholders will hold our iris data (both the features and label matrices), and help pass them along to different parts of the algorithm. You can consider placeholders as empty shells into which we insert our data. We also need to give them shapes which correspond to the shape of our data. Later, we will insert data into these placeholders by “feeding” the placeholders the data via a “feed_dict” (Feed Dictionary).\n",
        "\n",
        "### Why use Placeholders?  \n",
        "1) This feature of TensorFlow allows us to create an algorithm which accepts data and knows something about the shape of the data without knowing the amount of data going in. <br><br>\n",
        "2) When we insert “batches” of data in training, we can easily adjust how many examples we train on in a single step without changing the entire algorithm."
      ]
    },
    {
      "cell_type": "code",
      "metadata": {
        "id": "-yZHon8gHaFc",
        "colab_type": "code",
        "colab": {}
      },
      "source": [
        "# numFeatures is the number of features in our input data.\n",
        "# In the iris dataset, this number is '4'.\n",
        "numFeatures = trainX.shape[1]\n",
        "\n",
        "# numLabels is the number of classes our data points can be in.\n",
        "# In the iris dataset, this number is '3'.\n",
        "numLabels = trainY.shape[1]\n",
        "\n",
        "\n",
        "# Placeholders\n",
        "# 'None' means TensorFlow shouldn't expect a fixed number in that dimension\n",
        "X = tf.placeholder(tf.float32, [None, numFeatures]) # Iris has 4 features, so X is a tensor to hold our data.\n",
        "yGold = tf.placeholder(tf.float32, [None, numLabels]) # This will be our correct answers matrix for 3 classes."
      ],
      "execution_count": 0,
      "outputs": []
    },
    {
      "cell_type": "markdown",
      "metadata": {
        "id": "IEUIQzMHHaFh",
        "colab_type": "text"
      },
      "source": [
        "### Set model weights and bias\n",
        "\n",
        "Much like Linear Regression, we need a shared variable weight matrix for Logistic Regression. We initialize both `W` and `b` as tensors full of zeros. Since we are going to learn `W` and `b`, their initial value doesn't matter too much. These variables are the objects which define the structure of our regression model, and we can save them after they’ve been trained so we can reuse them later.\n",
        "\n",
        "We define two TensorFlow variables as our parameters. These variables will hold the weights and biases of our logistic regression and they will be continually updated during training. \n",
        "\n",
        "Notice that `W` has a shape of [4, 3] because we want to multiply the 4-dimensional input vectors by it to produce 3-dimensional vectors of evidence for the difference classes. `b` has a shape of [3] so we can add it to the output. Moreover, unlike our placeholders above which are essentially empty shells waiting to be fed data, TensorFlow variables need to be initialized with values, e.g. with zeros."
      ]
    },
    {
      "cell_type": "code",
      "metadata": {
        "id": "qifSZFQhHaFi",
        "colab_type": "code",
        "colab": {}
      },
      "source": [
        "W = tf.Variable(tf.zeros([4, 3]))  # 4-dimensional input and  3 classes\n",
        "b = tf.Variable(tf.zeros([3])) # 3-dimensional output [0,0,1],[0,1,0],[1,0,0]"
      ],
      "execution_count": 0,
      "outputs": []
    },
    {
      "cell_type": "code",
      "metadata": {
        "id": "MLgj_cf8HaFm",
        "colab_type": "code",
        "colab": {}
      },
      "source": [
        "#Randomly sample from a normal distribution with standard deviation .01\n",
        "\n",
        "weights = tf.Variable(tf.random_normal([numFeatures,numLabels],\n",
        "                                       mean=0,\n",
        "                                       stddev=0.01,\n",
        "                                       name=\"weights\"))\n",
        "\n",
        "bias = tf.Variable(tf.random_normal([1,numLabels],\n",
        "                                    mean=0,\n",
        "                                    stddev=0.01,\n",
        "                                    name=\"bias\"))"
      ],
      "execution_count": 0,
      "outputs": []
    },
    {
      "cell_type": "markdown",
      "metadata": {
        "id": "Wq917gIBHaFq",
        "colab_type": "text"
      },
      "source": [
        "###  Logistic Regression model\n",
        "\n",
        "We now define our operations in order to properly run the Logistic Regression. Logistic regression is typically thought of as a single equation:\n",
        "\n",
        "$$\n",
        "ŷ =sigmoid(WX+b)\n",
        "$$\n",
        "\n",
        "However, for the sake of clarity, we can have it broken into its three main components: \n",
        "- a weight times features matrix multiplication operation, \n",
        "- a summation of the weighted features and a bias term, \n",
        "- and finally the application of a sigmoid function. \n",
        "\n",
        "As such, you will find these components defined as three separate operations below.\n"
      ]
    },
    {
      "cell_type": "code",
      "metadata": {
        "id": "seWPkhhrHaFs",
        "colab_type": "code",
        "colab": {}
      },
      "source": [
        "# Three-component breakdown of the Logistic Regression equation.\n",
        "# Note that these feed into each other.\n",
        "apply_weights_OP = tf.matmul(X, weights, name=\"apply_weights\")\n",
        "add_bias_OP = tf.add(apply_weights_OP, bias, name=\"add_bias\") \n",
        "activation_OP = tf.nn.sigmoid(add_bias_OP, name=\"activation\")"
      ],
      "execution_count": 0,
      "outputs": []
    },
    {
      "cell_type": "markdown",
      "metadata": {
        "id": "tnNui_8fHaFy",
        "colab_type": "text"
      },
      "source": [
        "As we have seen before, the function we are going to use is the _logistic function_ $(\\frac{1}{1+e^{-x}})$, which is fed the input data after applying weights and bias. In TensorFlow, this function is implemented as the `nn.sigmoid` function. Effectively, this fits the weighted input with bias into a 0-100 percent curve, which is the probability function we want."
      ]
    },
    {
      "cell_type": "markdown",
      "metadata": {
        "id": "ApGA9zUkHaF0",
        "colab_type": "text"
      },
      "source": [
        "-------------------------------------"
      ]
    },
    {
      "cell_type": "markdown",
      "metadata": {
        "id": "ILDDh65JHaF1",
        "colab_type": "text"
      },
      "source": [
        "<a id=\"ref3\"></a>\n",
        "# Training\n",
        "\n",
        "The learning algorithm is how we search for the best weight vector (${\\bf w}$). This search is an optimization problem looking for the hypothesis that optimizes an error/cost measure.\n",
        "\n",
        "__What tell us our model is bad?__  \n",
        "The Cost or Loss of the model, so what we want is to minimize that. \n",
        "\n",
        "__What is the cost function in our model?__  \n",
        "The cost function we are going to utilize is the Squared Mean Error loss function.\n",
        "\n",
        "__How to minimize the cost function?__   \n",
        "We can't use __least-squares linear regression__ here, so we will use [gradient descent](http://en.wikipedia.org/wiki/Gradient_descent) instead. Specifically, we will use batch gradient descent which calculates the gradient from all data points in the data set.\n",
        "\n",
        "### Cost function\n",
        "Before defining our cost function, we need to define how long we are going to train and how should we define the learning rate."
      ]
    },
    {
      "cell_type": "code",
      "metadata": {
        "id": "iWjQS-ZfHaF2",
        "colab_type": "code",
        "colab": {}
      },
      "source": [
        "# Number of Epochs in our training\n",
        "numEpochs = 700\n",
        "\n",
        "# Defining our learning rate iterations (decay)\n",
        "learningRate = tf.train.exponential_decay(learning_rate=0.0008,\n",
        "                                          global_step= 1,\n",
        "                                          decay_steps=trainX.shape[0],\n",
        "                                          decay_rate= 0.95,\n",
        "                                          staircase=True)"
      ],
      "execution_count": 0,
      "outputs": []
    },
    {
      "cell_type": "code",
      "metadata": {
        "id": "ZgNq3pHpHaF8",
        "colab_type": "code",
        "colab": {}
      },
      "source": [
        "#Defining our cost function - Squared Mean Error\n",
        "cost_OP = tf.nn.l2_loss(activation_OP-yGold, name=\"squared_error_cost\")\n",
        "\n",
        "#Defining our Gradient Descent\n",
        "training_OP = tf.train.GradientDescentOptimizer(learningRate).minimize(cost_OP)"
      ],
      "execution_count": 0,
      "outputs": []
    },
    {
      "cell_type": "markdown",
      "metadata": {
        "id": "QXwihdwZHaGC",
        "colab_type": "text"
      },
      "source": [
        "Now we move on to actually running our operations. We will start with the operations involved in the prediction phase (i.e. the logistic regression itself).\n",
        "\n",
        "First, we need to initialize our weights and biases with zeros or random values via the inbuilt Initialization Op, __tf.initialize_all_variables()__. This Initialization Op will become a node in our computational graph, and when we put the graph into a session, then the Op will run and create the variables."
      ]
    },
    {
      "cell_type": "code",
      "metadata": {
        "id": "viatSU-mHaGD",
        "colab_type": "code",
        "colab": {}
      },
      "source": [
        "# Create a tensorflow session\n",
        "sess = tf.Session()\n",
        "\n",
        "# Initialize our weights and biases variables.\n",
        "init_OP = tf.global_variables_initializer()\n",
        "\n",
        "# Initialize all tensorflow variables\n",
        "sess.run(init_OP)"
      ],
      "execution_count": 0,
      "outputs": []
    },
    {
      "cell_type": "markdown",
      "metadata": {
        "id": "Y0SWyiqrHaGH",
        "colab_type": "text"
      },
      "source": [
        "We also want some additional operations to keep track of our model's efficiency over time. We can do this like so:"
      ]
    },
    {
      "cell_type": "code",
      "metadata": {
        "id": "3kWfcq1FHaGI",
        "colab_type": "code",
        "colab": {}
      },
      "source": [
        "# argmax(activation_OP, 1) returns the label with the most probability\n",
        "# argmax(yGold, 1) is the correct label\n",
        "correct_predictions_OP = tf.equal(tf.argmax(activation_OP,1),tf.argmax(yGold,1))\n",
        "\n",
        "# If every false prediction is 0 and every true prediction is 1, the average returns us the accuracy\n",
        "accuracy_OP = tf.reduce_mean(tf.cast(correct_predictions_OP, \"float\"))\n",
        "\n",
        "# Summary op for regression output\n",
        "activation_summary_OP = tf.summary.histogram(\"output\", activation_OP)\n",
        "\n",
        "# Summary op for accuracy\n",
        "accuracy_summary_OP = tf.summary.scalar(\"accuracy\", accuracy_OP)\n",
        "\n",
        "# Summary op for cost\n",
        "cost_summary_OP = tf.summary.scalar(\"cost\", cost_OP)\n",
        "\n",
        "# Summary ops to check how variables (W, b) are updating after each iteration\n",
        "weightSummary = tf.summary.histogram(\"weights\", weights.eval(session=sess))\n",
        "biasSummary = tf.summary.histogram(\"biases\", bias.eval(session=sess))\n",
        "\n",
        "# Merge all summaries\n",
        "merged = tf.summary.merge([activation_summary_OP, accuracy_summary_OP, cost_summary_OP, weightSummary, biasSummary])\n",
        "\n",
        "# Summary writer\n",
        "writer = tf.summary.FileWriter(\"summary_logs\", sess.graph)"
      ],
      "execution_count": 0,
      "outputs": []
    },
    {
      "cell_type": "markdown",
      "metadata": {
        "id": "NhzY96tQHaGM",
        "colab_type": "text"
      },
      "source": [
        "Now we can define and run the actual training loop, like this:"
      ]
    },
    {
      "cell_type": "code",
      "metadata": {
        "id": "jGYwKRMxHaGM",
        "colab_type": "code",
        "colab": {
          "base_uri": "https://localhost:8080/",
          "height": 1000
        },
        "outputId": "db28d36c-2391-437c-a9f0-684751945266"
      },
      "source": [
        "# Initialize reporting variables\n",
        "cost = 0\n",
        "diff = 1\n",
        "epoch_values = []\n",
        "accuracy_values = []\n",
        "cost_values = []\n",
        "\n",
        "# Training epochs\n",
        "for i in range(numEpochs):\n",
        "    if i > 1 and diff < .0001:\n",
        "        print(\"change in cost %g; convergence.\"%diff)\n",
        "        break\n",
        "    else:\n",
        "        # Run training step\n",
        "        step = sess.run(training_OP, feed_dict={X: trainX, yGold: trainY})\n",
        "        # Report occasional stats\n",
        "        if i % 10 == 0:\n",
        "            # Add epoch to epoch_values\n",
        "            epoch_values.append(i)\n",
        "            # Generate accuracy stats on test data\n",
        "            train_accuracy, newCost = sess.run([accuracy_OP, cost_OP], feed_dict={X: trainX, yGold: trainY})\n",
        "            # Add accuracy to live graphing variable\n",
        "            accuracy_values.append(train_accuracy)\n",
        "            # Add cost to live graphing variable\n",
        "            cost_values.append(newCost)\n",
        "            # Re-assign values for variables\n",
        "            diff = abs(newCost - cost)\n",
        "            cost = newCost\n",
        "\n",
        "            #generate print statements\n",
        "            print(\"step %d, training accuracy %g, cost %g, change in cost %g\"%(i, train_accuracy, newCost, diff))\n",
        "\n",
        "\n",
        "# How well do we perform on held-out test data?\n",
        "print(\"final accuracy on test set: %s\" %str(sess.run(accuracy_OP, \n",
        "                                                     feed_dict={X: testX, \n",
        "                                                                yGold: testY})))"
      ],
      "execution_count": 25,
      "outputs": [
        {
          "output_type": "stream",
          "text": [
            "step 0, training accuracy 0.333333, cost 33.7777, change in cost 33.7777\n",
            "step 10, training accuracy 0.636364, cost 29.8104, change in cost 3.96734\n",
            "step 20, training accuracy 0.646465, cost 27.898, change in cost 1.91242\n",
            "step 30, training accuracy 0.646465, cost 26.2927, change in cost 1.60525\n",
            "step 40, training accuracy 0.646465, cost 24.9629, change in cost 1.32982\n",
            "step 50, training accuracy 0.646465, cost 23.8654, change in cost 1.09751\n",
            "step 60, training accuracy 0.646465, cost 22.9568, change in cost 0.908627\n",
            "step 70, training accuracy 0.646465, cost 22.1991, change in cost 0.757635\n",
            "step 80, training accuracy 0.646465, cost 21.5616, change in cost 0.637564\n",
            "step 90, training accuracy 0.646465, cost 21.0197, change in cost 0.541912\n",
            "step 100, training accuracy 0.666667, cost 20.5544, change in cost 0.465311\n",
            "step 110, training accuracy 0.666667, cost 20.1509, change in cost 0.403496\n",
            "step 120, training accuracy 0.666667, cost 19.7977, change in cost 0.353193\n",
            "step 130, training accuracy 0.666667, cost 19.4858, change in cost 0.311905\n",
            "step 140, training accuracy 0.666667, cost 19.2081, change in cost 0.277702\n",
            "step 150, training accuracy 0.666667, cost 18.9589, change in cost 0.24914\n",
            "step 160, training accuracy 0.686869, cost 18.7338, change in cost 0.22509\n",
            "step 170, training accuracy 0.686869, cost 18.5292, change in cost 0.204672\n",
            "step 180, training accuracy 0.69697, cost 18.3419, change in cost 0.187225\n",
            "step 190, training accuracy 0.707071, cost 18.1697, change in cost 0.172199\n",
            "step 200, training accuracy 0.717172, cost 18.0106, change in cost 0.159178\n",
            "step 210, training accuracy 0.737374, cost 17.8627, change in cost 0.147823\n",
            "step 220, training accuracy 0.737374, cost 17.7249, change in cost 0.137871\n",
            "step 230, training accuracy 0.747475, cost 17.5958, change in cost 0.129086\n",
            "step 240, training accuracy 0.757576, cost 17.4745, change in cost 0.121298\n",
            "step 250, training accuracy 0.777778, cost 17.3601, change in cost 0.114363\n",
            "step 260, training accuracy 0.787879, cost 17.252, change in cost 0.108154\n",
            "step 270, training accuracy 0.787879, cost 17.1494, change in cost 0.10257\n",
            "step 280, training accuracy 0.787879, cost 17.0519, change in cost 0.0975285\n",
            "step 290, training accuracy 0.787879, cost 16.9589, change in cost 0.0929661\n",
            "step 300, training accuracy 0.79798, cost 16.8701, change in cost 0.0888081\n",
            "step 310, training accuracy 0.79798, cost 16.7851, change in cost 0.0850124\n",
            "step 320, training accuracy 0.79798, cost 16.7035, change in cost 0.0815372\n",
            "step 330, training accuracy 0.79798, cost 16.6252, change in cost 0.0783424\n",
            "step 340, training accuracy 0.818182, cost 16.5498, change in cost 0.0753956\n",
            "step 350, training accuracy 0.828283, cost 16.4771, change in cost 0.0726719\n",
            "step 360, training accuracy 0.838384, cost 16.407, change in cost 0.0701485\n",
            "step 370, training accuracy 0.838384, cost 16.3392, change in cost 0.0678005\n",
            "step 380, training accuracy 0.838384, cost 16.2736, change in cost 0.0656109\n",
            "step 390, training accuracy 0.848485, cost 16.21, change in cost 0.06357\n",
            "step 400, training accuracy 0.848485, cost 16.1483, change in cost 0.061657\n",
            "step 410, training accuracy 0.848485, cost 16.0885, change in cost 0.0598602\n",
            "step 420, training accuracy 0.848485, cost 16.0303, change in cost 0.0581722\n",
            "step 430, training accuracy 0.858586, cost 15.9737, change in cost 0.0565805\n",
            "step 440, training accuracy 0.868687, cost 15.9186, change in cost 0.0550795\n",
            "step 450, training accuracy 0.868687, cost 15.865, change in cost 0.0536623\n",
            "step 460, training accuracy 0.878788, cost 15.8127, change in cost 0.0523148\n",
            "step 470, training accuracy 0.878788, cost 15.7616, change in cost 0.0510387\n",
            "step 480, training accuracy 0.878788, cost 15.7118, change in cost 0.0498266\n",
            "step 490, training accuracy 0.878788, cost 15.6631, change in cost 0.0486717\n",
            "step 500, training accuracy 0.878788, cost 15.6156, change in cost 0.0475721\n",
            "step 510, training accuracy 0.878788, cost 15.569, change in cost 0.0465221\n",
            "step 520, training accuracy 0.878788, cost 15.5235, change in cost 0.0455208\n",
            "step 530, training accuracy 0.888889, cost 15.479, change in cost 0.0445623\n",
            "step 540, training accuracy 0.89899, cost 15.4353, change in cost 0.043642\n",
            "step 550, training accuracy 0.89899, cost 15.3926, change in cost 0.0427599\n",
            "step 560, training accuracy 0.89899, cost 15.3506, change in cost 0.0419149\n",
            "step 570, training accuracy 0.89899, cost 15.3095, change in cost 0.0411024\n",
            "step 580, training accuracy 0.89899, cost 15.2692, change in cost 0.0403185\n",
            "step 590, training accuracy 0.909091, cost 15.2296, change in cost 0.039567\n",
            "step 600, training accuracy 0.909091, cost 15.1908, change in cost 0.0388403\n",
            "step 610, training accuracy 0.909091, cost 15.1527, change in cost 0.0381422\n",
            "step 620, training accuracy 0.909091, cost 15.1152, change in cost 0.037467\n",
            "step 630, training accuracy 0.909091, cost 15.0784, change in cost 0.0368118\n",
            "step 640, training accuracy 0.909091, cost 15.0422, change in cost 0.0361814\n",
            "step 650, training accuracy 0.909091, cost 15.0066, change in cost 0.035574\n",
            "step 660, training accuracy 0.909091, cost 14.9717, change in cost 0.0349808\n",
            "step 670, training accuracy 0.909091, cost 14.9372, change in cost 0.0344095\n",
            "step 680, training accuracy 0.909091, cost 14.9034, change in cost 0.0338545\n",
            "step 690, training accuracy 0.909091, cost 14.8701, change in cost 0.0333166\n",
            "final accuracy on test set: 0.9\n"
          ],
          "name": "stdout"
        }
      ]
    },
    {
      "cell_type": "markdown",
      "metadata": {
        "id": "oQIQ4uydHaGP",
        "colab_type": "text"
      },
      "source": [
        "__Why don't we plot the cost to see how it behaves?__"
      ]
    },
    {
      "cell_type": "code",
      "metadata": {
        "id": "Izqo2VTYHaGQ",
        "colab_type": "code",
        "colab": {
          "base_uri": "https://localhost:8080/",
          "height": 269
        },
        "outputId": "8817949a-509a-430e-eef2-4ec03c349b7d"
      },
      "source": [
        "%matplotlib inline\n",
        "import numpy as np\n",
        "import matplotlib.pyplot as plt\n",
        "plt.plot([np.mean(cost_values[i-50:i]) for i in range(len(cost_values))])\n",
        "plt.show()"
      ],
      "execution_count": 26,
      "outputs": [
        {
          "output_type": "display_data",
          "data": {
            "image/png": "[encoded data removed]",
            "text/plain": [
              "<Figure size 432x288 with 1 Axes>"
            ]
          },
          "metadata": {
            "tags": []
          }
        }
      ]
    },
    {
      "cell_type": "markdown",
      "metadata": {
        "collapsed": true,
        "id": "ZYL29z_JHaGU",
        "colab_type": "text"
      },
      "source": [
        "Assuming no parameters were changed, you should reach a peak accuracy of 90% at the end of training, which is commendable. Try changing the parameters such as the length of training, and maybe some operations to see how the model behaves. Does it take much longer? How is the performance?"
      ]
    },
    {
      "cell_type": "markdown",
      "metadata": {
        "id": "H3vpGtEGHaGV",
        "colab_type": "text"
      },
      "source": [
        "------------------------------------"
      ]
    },
    {
      "cell_type": "markdown",
      "metadata": {
        "id": "URDHOko0HaGX",
        "colab_type": "text"
      },
      "source": [
        "# Thanks for completing this lesson!\n",
        "\n",
        "This is the end of **Logistic Regression with TensorFlow** notebook. Hopefully, now you have a deeper understanding of Logistic Regression and how its structure and flow work. Thank you for reading this notebook and good luck on your studies."
      ]
    },
    {
      "cell_type": "markdown",
      "metadata": {
        "id": "YwBXoSiVHaGZ",
        "colab_type": "text"
      },
      "source": [
        "Created by: <a href = \"https://br.linkedin.com/in/walter-gomes-de-amorim-junior-624726121\">Walter Gomes de Amorim Junior</a> , <a href = \"https://br.linkedin.com/in/walter-gomes-de-amorim-junior-624726121\">Saeed Aghabozorgi</a> , <a href = \"https://br.linkedin.com/in/victor-barros-2446a390\">Victor Barros Costa</a>\n"
      ]
    },
    {
      "cell_type": "markdown",
      "metadata": {
        "id": "bQfV9HfkHaGa",
        "colab_type": "text"
      },
      "source": [
        "<hr>\n",
        "\n",
        "<p>Copyright &copy; 2017 IBM <a href=\"https://cognitiveclass.ai/?utm_source=ML0151&utm_medium=lab&utm_campaign=cclab\">IBM Cognitive Class</a>. This notebook and its source code are released under the terms of the <a href=\"https://cognitiveclass.ai/mit-license/\">MIT License</a>.</p>\n"
      ]
    }
  ]
}