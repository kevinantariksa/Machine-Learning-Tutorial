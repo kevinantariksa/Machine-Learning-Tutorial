{
  "nbformat": 4,
  "nbformat_minor": 0,
  "metadata": {
    "colab": {
      "name": "LAB-1-Review-GPU_vs_CPU.ipynb",
      "version": "0.3.2",
      "provenance": [],
      "collapsed_sections": [],
      "toc_visible": true
    },
    "language_info": {
      "codemirror_mode": {
        "name": "ipython",
        "version": 2
      },
      "file_extension": ".py",
      "mimetype": "text/x-python",
      "name": "python",
      "nbconvert_exporter": "python",
      "pygments_lexer": "ipython2",
      "version": "2.7.12"
    },
    "kernelspec": {
      "name": "python2",
      "display_name": "Python 2"
    },
    "accelerator": "GPU"
  },
  "cells": [
    {
      "cell_type": "markdown",
      "metadata": {
        "id": "Jb5RkURI7G9G",
        "colab_type": "text"
      },
      "source": [
        "<img src = \"https://i.imgur.com/UjutVJd.jpg\"  align = \"center\">\n",
        "<h1><font size = 5>GPU vs CPU</font></h1>"
      ]
    },
    {
      "cell_type": "markdown",
      "metadata": {
        "id": "vLwg60wO7G9K",
        "colab_type": "text"
      },
      "source": [
        "In this notebook we learn how to run a program on different devices.\n",
        "\n",
        "There are usually multiple computing devices available on each machine. TensorFlow, supports three types of devices:\n",
        "- \"/cpu:0\": The CPU of your machine.\n",
        "- \"/gpu:0\": The GPU of your machine, if you have one.\n",
        "- \"/device:XLA:0\": Optimized domain-specific compiler for linear algebra.\n",
        "\n",
        "**Note: Use Change runtime  if  error occured, choose  Hardware Accelerator **"
      ]
    },
    {
      "cell_type": "code",
      "metadata": {
        "id": "e5JuLG607G9O",
        "colab_type": "code",
        "colab": {}
      },
      "source": [
        "import sys\n",
        "import numpy as np\n",
        "import tensorflow as tf\n",
        "from datetime import datetime\n",
        "config = tf.ConfigProto()\n",
        "config.gpu_options.per_process_gpu_memory_fraction = 0.5\n",
        "config.log_device_placement=False"
      ],
      "execution_count": 0,
      "outputs": []
    },
    {
      "cell_type": "markdown",
      "metadata": {
        "button": false,
        "new_sheet": false,
        "run_control": {
          "read_only": false
        },
        "id": "R2Sl5M-V7G9Y",
        "colab_type": "text"
      },
      "source": [
        "### List of CPU and GPUs\n",
        "How to get list of CPU and GPUs on your machine ?"
      ]
    },
    {
      "cell_type": "code",
      "metadata": {
        "button": false,
        "new_sheet": false,
        "run_control": {
          "read_only": false
        },
        "id": "tSORdtzm7G9b",
        "colab_type": "code",
        "outputId": "56cc3ce0-5824-450f-d32c-7845f4524a15",
        "colab": {
          "base_uri": "https://localhost:8080/",
          "height": 91
        }
      },
      "source": [
        "from tensorflow.python.client import device_lib\n",
        "\n",
        "def get_available_gpus():\n",
        "    local_device_protos = device_lib.list_local_devices()\n",
        "    return [x.name for x in local_device_protos]\n",
        "get_available_gpus()"
      ],
      "execution_count": 2,
      "outputs": [
        {
          "output_type": "execute_result",
          "data": {
            "text/plain": [
              "[u'/device:CPU:0',\n",
              " u'/device:XLA_CPU:0',\n",
              " u'/device:XLA_GPU:0',\n",
              " u'/device:GPU:0']"
            ]
          },
          "metadata": {
            "tags": []
          },
          "execution_count": 2
        }
      ]
    },
    {
      "cell_type": "markdown",
      "metadata": {
        "id": "OXlJ88Q97G9k",
        "colab_type": "text"
      },
      "source": [
        "You might see one CPU, one or more GPUs if it is available on your computer, and also XLA."
      ]
    },
    {
      "cell_type": "markdown",
      "metadata": {
        "button": false,
        "new_sheet": false,
        "run_control": {
          "read_only": false
        },
        "id": "j7pEAvaS7G9n",
        "colab_type": "text"
      },
      "source": [
        "#### Performance of GPU vs CPU\n",
        "Most of Deep Learning models, especially in their training phase, involve a lot of matrix and vector multiplications that can parallelized. In this case, GPUs can overperform CPUs, because GPUs were designed to handle these kind of matrix operations in parallel!\n",
        "\n",
        "#### Why GPU overperforms?\n",
        "A single core CPU takes a matrix operation in serial, one element at a time. But, a single GPU could have hundreds or thousands of cores, while a CPU typically has no more than a few cores.\n",
        "\n",
        "\n",
        "#### How to use GPU with TensorFlow?\n",
        "It is important to notice that if both CPU and GPU are available on the machine that you are running a noebook, and if a TensorFlow operation has both CPU and GPU implementations, the GPU devices will be given priority when the operation is assigned to a device. \n",
        "\n",
        "In our case, as we are running this notebook on [IBM PowerAI](http://cocl.us/SETI-NIMBIX-PowerAI), you hvae access to multi GPU, but lets use one of the GPUs in this notebook, for the sake of simplicity.\n",
        "\n",
        "#### What is XLA?  \n",
        "XLA (Accelerated Linear Algebra) is a domain-specific compiler for linear algebra that optimizes TensorFlow computations. The results are improvements in speed, memory usage, and portability on server and mobile platforms. Initially, most users will not see large benefits from XLA, but are welcome to experiment by using XLA via just-in-time (JIT) compilation or ahead-of-time (AOT) compilation. Developers targeting new hardware accelerators are especially encouraged to try out XLA.\n",
        "\n",
        "The XLA framework is experimental and in active development. In particular, while it is unlikely that the semantics of existing operations will change, it is expected that more operations will be added to cover important use cases. The team welcomes feedback from the community about missing functionality and community contributions via GitHub."
      ]
    },
    {
      "cell_type": "markdown",
      "metadata": {
        "id": "06odezLw7G9s",
        "colab_type": "text"
      },
      "source": [
        "### Logging device"
      ]
    },
    {
      "cell_type": "markdown",
      "metadata": {
        "button": false,
        "new_sheet": false,
        "run_control": {
          "read_only": false
        },
        "id": "Bjs3r3-I7G9w",
        "colab_type": "text"
      },
      "source": [
        "It is recommended to use __logging device placement__ when using GPUs, as this lets you easily debug issues relating to different device usage. This prints the usage of devices to the log, allowing you to see when devices change and how that affects the graph. Unfortunately, the currenct version of jupyter notbeook does not show the logs properly, but still you can print out the nodes as a json file and check the devices. It will work fine if your script is running outside of Jupyter though. \n",
        "\n",
        "You can see that a, b and c are all run on GPU0\n",
        "\n"
      ]
    },
    {
      "cell_type": "code",
      "metadata": {
        "id": "ae4NbIC_7G9y",
        "colab_type": "code",
        "outputId": "4fb491a9-cb66-4fd0-a9d9-ada958fe0c41",
        "colab": {
          "base_uri": "https://localhost:8080/",
          "height": 1000
        }
      },
      "source": [
        "def print_logging_device():\n",
        "    # Creates a graph.\n",
        "    a = tf.constant([1.0, 2.0, 3.0, 4.0, 5.0, 6.0], shape=[2, 3], name='a')\n",
        "    b = tf.constant([1.0, 2.0, 3.0, 4.0, 5.0, 6.0], shape=[3, 2], name='b')\n",
        "    c = tf.constant([1.0, 2.0, 3.0, 4.0, ], shape=[2, 2], name='c')\n",
        "    mu = tf.matmul(a, b)\n",
        "    # Creates a session with log_device_placement set to True.\n",
        "    sess = tf.Session(config=config)\n",
        "    # Runs the op.\n",
        "    options = tf.RunOptions(output_partition_graphs=True)\n",
        "    metadata = tf.RunMetadata()\n",
        "    c_val = sess.run(mu, options=options, run_metadata=metadata)\n",
        "    print (c_val)\n",
        "    print (metadata.partition_graphs)\n",
        "\n",
        "print_logging_device()"
      ],
      "execution_count": 3,
      "outputs": [
        {
          "output_type": "stream",
          "text": [
            "[[22. 28.]\n",
            " [49. 64.]]\n",
            "[node {\n",
            "  name: \"MatMul\"\n",
            "  op: \"Const\"\n",
            "  device: \"/job:localhost/replica:0/task:0/device:GPU:0\"\n",
            "  attr {\n",
            "    key: \"dtype\"\n",
            "    value {\n",
            "      type: DT_FLOAT\n",
            "    }\n",
            "  }\n",
            "  attr {\n",
            "    key: \"value\"\n",
            "    value {\n",
            "      tensor {\n",
            "        dtype: DT_FLOAT\n",
            "        tensor_shape {\n",
            "          dim {\n",
            "            size: 2\n",
            "          }\n",
            "          dim {\n",
            "            size: 2\n",
            "          }\n",
            "        }\n",
            "        tensor_content: \"\\000\\000\\260A\\000\\000\\340A\\000\\000DB\\000\\000\\200B\"\n",
            "      }\n",
            "    }\n",
            "  }\n",
            "  experimental_debug_info {\n",
            "    original_node_names: \"MatMul\"\n",
            "  }\n",
            "}\n",
            "node {\n",
            "  name: \"MatMul/_0\"\n",
            "  op: \"_Send\"\n",
            "  input: \"MatMul\"\n",
            "  device: \"/job:localhost/replica:0/task:0/device:GPU:0\"\n",
            "  attr {\n",
            "    key: \"T\"\n",
            "    value {\n",
            "      type: DT_FLOAT\n",
            "    }\n",
            "  }\n",
            "  attr {\n",
            "    key: \"client_terminated\"\n",
            "    value {\n",
            "      b: false\n",
            "    }\n",
            "  }\n",
            "  attr {\n",
            "    key: \"recv_device\"\n",
            "    value {\n",
            "      s: \"/job:localhost/replica:0/task:0/device:CPU:0\"\n",
            "    }\n",
            "  }\n",
            "  attr {\n",
            "    key: \"send_device\"\n",
            "    value {\n",
            "      s: \"/job:localhost/replica:0/task:0/device:GPU:0\"\n",
            "    }\n",
            "  }\n",
            "  attr {\n",
            "    key: \"send_device_incarnation\"\n",
            "    value {\n",
            "      i: 1\n",
            "    }\n",
            "  }\n",
            "  attr {\n",
            "    key: \"tensor_name\"\n",
            "    value {\n",
            "      s: \"edge_5_MatMul\"\n",
            "    }\n",
            "  }\n",
            "  experimental_debug_info {\n",
            "    original_node_names: \"MatMul\"\n",
            "  }\n",
            "}\n",
            "library {\n",
            "}\n",
            "versions {\n",
            "  producer: 38\n",
            "}\n",
            ", node {\n",
            "  name: \"MatMul/_1\"\n",
            "  op: \"_Recv\"\n",
            "  device: \"/job:localhost/replica:0/task:0/device:CPU:0\"\n",
            "  attr {\n",
            "    key: \"client_terminated\"\n",
            "    value {\n",
            "      b: false\n",
            "    }\n",
            "  }\n",
            "  attr {\n",
            "    key: \"recv_device\"\n",
            "    value {\n",
            "      s: \"/job:localhost/replica:0/task:0/device:CPU:0\"\n",
            "    }\n",
            "  }\n",
            "  attr {\n",
            "    key: \"send_device\"\n",
            "    value {\n",
            "      s: \"/job:localhost/replica:0/task:0/device:GPU:0\"\n",
            "    }\n",
            "  }\n",
            "  attr {\n",
            "    key: \"send_device_incarnation\"\n",
            "    value {\n",
            "      i: 1\n",
            "    }\n",
            "  }\n",
            "  attr {\n",
            "    key: \"tensor_name\"\n",
            "    value {\n",
            "      s: \"edge_5_MatMul\"\n",
            "    }\n",
            "  }\n",
            "  attr {\n",
            "    key: \"tensor_type\"\n",
            "    value {\n",
            "      type: DT_FLOAT\n",
            "    }\n",
            "  }\n",
            "  experimental_debug_info {\n",
            "    original_node_names: \"MatMul\"\n",
            "  }\n",
            "}\n",
            "node {\n",
            "  name: \"_retval_MatMul_0_0\"\n",
            "  op: \"_Retval\"\n",
            "  input: \"MatMul/_1\"\n",
            "  device: \"/job:localhost/replica:0/task:0/device:CPU:0\"\n",
            "  attr {\n",
            "    key: \"T\"\n",
            "    value {\n",
            "      type: DT_FLOAT\n",
            "    }\n",
            "  }\n",
            "  attr {\n",
            "    key: \"index\"\n",
            "    value {\n",
            "      i: 0\n",
            "    }\n",
            "  }\n",
            "  experimental_debug_info {\n",
            "    original_node_names: \"_retval_MatMul_0_0\"\n",
            "  }\n",
            "}\n",
            "library {\n",
            "}\n",
            "versions {\n",
            "  producer: 38\n",
            "}\n",
            "]\n"
          ],
          "name": "stdout"
        }
      ]
    },
    {
      "cell_type": "markdown",
      "metadata": {
        "id": "3se9M0dc7G94",
        "colab_type": "text"
      },
      "source": [
        "#### What types of operations should I send to the GPU?\n",
        "\n",
        "Basically, if a step of the process encompass “do this mathematical operation many times”, then it is a good candidate operation to send it to be run on the GPU. For example,\n",
        "- Matrix multiplication \n",
        "- Computing the inverse of a matrix.\n",
        "- Gradient calculation, which are computed on multiple GPUs individually and are averaged on CPU"
      ]
    },
    {
      "cell_type": "markdown",
      "metadata": {
        "id": "1hRmpYJw7G97",
        "colab_type": "text"
      },
      "source": [
        "### Device placement:\n",
        "As mentioned, by default, GPU get priority for the operations which support runing on it. But, you can manually place an operation on a device to be run. You can use __ tf.device__ to assign the operations to a device context."
      ]
    },
    {
      "cell_type": "code",
      "metadata": {
        "id": "CAPzNwhJ7G9_",
        "colab_type": "code",
        "outputId": "83d8fe0f-36ff-43bb-cd29-16f467b89884",
        "colab": {
          "base_uri": "https://localhost:8080/",
          "height": 54
        }
      },
      "source": [
        "# Creates a new graph.\n",
        "myGraph = tf.Graph()\n",
        "with tf.Session(config=config, graph=myGraph) as sess:\n",
        "    with tf.device('/gpu:0'):\n",
        "        a = tf.constant([1.0, 2.0, 3.0, 4.0, 5.0, 6.0], shape=[2, 3], name='a')\n",
        "        b = tf.constant([1.0, 2.0, 3.0, 4.0, 5.0, 6.0], shape=[3, 2], name='b')\n",
        "        c = tf.constant([1.0, 2.0, 3.0, 4.0, ], shape=[2, 2], name='c')\n",
        "        mu = tf.matmul(a, b)\n",
        "    with tf.device('/cpu:0'):\n",
        "        ad = tf.add(mu,c)\n",
        "    print (sess.run(ad))"
      ],
      "execution_count": 4,
      "outputs": [
        {
          "output_type": "stream",
          "text": [
            "[[23. 30.]\n",
            " [52. 68.]]\n"
          ],
          "name": "stdout"
        }
      ]
    },
    {
      "cell_type": "markdown",
      "metadata": {
        "id": "IF-nNun27G-I",
        "colab_type": "text"
      },
      "source": [
        "Lets use one of Alex Mordvintsev deep dream [notebook]() to visualize the above graph. You can change the color to see the operations assigned to GPU and CPU."
      ]
    },
    {
      "cell_type": "code",
      "metadata": {
        "id": "DRtyenbm7G-L",
        "colab_type": "code",
        "outputId": "8235a303-303a-4ae2-89bb-1bc9a13aa794",
        "colab": {
          "base_uri": "https://localhost:8080/",
          "height": 641
        }
      },
      "source": [
        "# Helper functions for TF Graph visualization\n",
        "from IPython.display import clear_output, Image, display, HTML\n",
        "\n",
        "def strip_consts(graph_def, max_const_size=32):\n",
        "    \"\"\"Strip large constant values from graph_def.\"\"\"\n",
        "    strip_def = tf.GraphDef()\n",
        "    for n0 in graph_def.node:\n",
        "        n = strip_def.node.add() \n",
        "        n.MergeFrom(n0)\n",
        "        if n.op == 'Const':\n",
        "            tensor = n.attr['value'].tensor\n",
        "            size = len(tensor.tensor_content)\n",
        "            if size > max_const_size:\n",
        "                tensor.tensor_content = tf.compat.as_bytes(\"<stripped %d bytes>\"%size)\n",
        "    return strip_def\n",
        "  \n",
        "def rename_nodes(graph_def, rename_func):\n",
        "    res_def = tf.GraphDef()\n",
        "    for n0 in graph_def.node:\n",
        "        n = res_def.node.add() \n",
        "        n.MergeFrom(n0)\n",
        "        n.name = rename_func(n.name)\n",
        "        for i, s in enumerate(n.input):\n",
        "            n.input[i] = rename_func(s) if s[0]!='^' else '^'+rename_func(s[1:])\n",
        "    return res_def\n",
        "  \n",
        "def show_graph(graph_def, max_const_size=32):\n",
        "    \"\"\"Visualize TensorFlow graph.\"\"\"\n",
        "    if hasattr(graph_def, 'as_graph_def'):\n",
        "        graph_def = graph_def.as_graph_def()\n",
        "    strip_def = strip_consts(graph_def, max_const_size=max_const_size)\n",
        "    code = \"\"\"\n",
        "        <script>\n",
        "          function load() {{\n",
        "            document.getElementById(\"{id}\").pbtxt = {data};\n",
        "          }}\n",
        "        </script>\n",
        "        <link rel=\"import\" href=\"https://tensorboard.appspot.com/tf-graph-basic.build.html\" onload=load()>\n",
        "        <div style=\"height:600px\">\n",
        "          <tf-graph-basic id=\"{id}\"></tf-graph-basic>\n",
        "        </div>\n",
        "    \"\"\".format(data=repr(str(strip_def)), id='graph'+str(np.random.rand()))\n",
        "  \n",
        "    iframe = \"\"\"\n",
        "        <iframe seamless style=\"width:800px;height:620px;border:0\" srcdoc=\"{}\"></iframe>\n",
        "    \"\"\".format(code.replace('\"', '&quot;'))\n",
        "    display(HTML(iframe))\n",
        "\n",
        "graph_def = myGraph.as_graph_def()\n",
        "tmp_def = rename_nodes(graph_def, lambda s:\"/\".join(s.split('_',1)))\n",
        "show_graph(tmp_def)"
      ],
      "execution_count": 5,
      "outputs": [
        {
          "output_type": "display_data",
          "data": {
            "text/plain": [
              "<IPython.core.display.HTML object>"
            ],
            "text/html": [
              "\n",
              "        <iframe seamless style=\"width:800px;height:620px;border:0\" srcdoc=\"\n",
              "        <script>\n",
              "          function load() {\n",
              "            document.getElementById(&quot;graph0.458164052832&quot;).pbtxt = 'node {\\n  name: &quot;a&quot;\\n  op: &quot;Const&quot;\\n  device: &quot;/device:GPU:0&quot;\\n  attr {\\n    key: &quot;dtype&quot;\\n    value {\\n      type: DT_FLOAT\\n    }\\n  }\\n  attr {\\n    key: &quot;value&quot;\\n    value {\\n      tensor {\\n        dtype: DT_FLOAT\\n        tensor_shape {\\n          dim {\\n            size: 2\\n          }\\n          dim {\\n            size: 3\\n          }\\n        }\\n        tensor_content: &quot;\\\\000\\\\000\\\\200?\\\\000\\\\000\\\\000@\\\\000\\\\000@@\\\\000\\\\000\\\\200@\\\\000\\\\000\\\\240@\\\\000\\\\000\\\\300@&quot;\\n      }\\n    }\\n  }\\n}\\nnode {\\n  name: &quot;b&quot;\\n  op: &quot;Const&quot;\\n  device: &quot;/device:GPU:0&quot;\\n  attr {\\n    key: &quot;dtype&quot;\\n    value {\\n      type: DT_FLOAT\\n    }\\n  }\\n  attr {\\n    key: &quot;value&quot;\\n    value {\\n      tensor {\\n        dtype: DT_FLOAT\\n        tensor_shape {\\n          dim {\\n            size: 3\\n          }\\n          dim {\\n            size: 2\\n          }\\n        }\\n        tensor_content: &quot;\\\\000\\\\000\\\\200?\\\\000\\\\000\\\\000@\\\\000\\\\000@@\\\\000\\\\000\\\\200@\\\\000\\\\000\\\\240@\\\\000\\\\000\\\\300@&quot;\\n      }\\n    }\\n  }\\n}\\nnode {\\n  name: &quot;c&quot;\\n  op: &quot;Const&quot;\\n  device: &quot;/device:GPU:0&quot;\\n  attr {\\n    key: &quot;dtype&quot;\\n    value {\\n      type: DT_FLOAT\\n    }\\n  }\\n  attr {\\n    key: &quot;value&quot;\\n    value {\\n      tensor {\\n        dtype: DT_FLOAT\\n        tensor_shape {\\n          dim {\\n            size: 2\\n          }\\n          dim {\\n            size: 2\\n          }\\n        }\\n        tensor_content: &quot;\\\\000\\\\000\\\\200?\\\\000\\\\000\\\\000@\\\\000\\\\000@@\\\\000\\\\000\\\\200@&quot;\\n      }\\n    }\\n  }\\n}\\nnode {\\n  name: &quot;MatMul&quot;\\n  op: &quot;MatMul&quot;\\n  input: &quot;a&quot;\\n  input: &quot;b&quot;\\n  device: &quot;/device:GPU:0&quot;\\n  attr {\\n    key: &quot;T&quot;\\n    value {\\n      type: DT_FLOAT\\n    }\\n  }\\n  attr {\\n    key: &quot;transpose_a&quot;\\n    value {\\n      b: false\\n    }\\n  }\\n  attr {\\n    key: &quot;transpose_b&quot;\\n    value {\\n      b: false\\n    }\\n  }\\n}\\nnode {\\n  name: &quot;Add&quot;\\n  op: &quot;Add&quot;\\n  input: &quot;MatMul&quot;\\n  input: &quot;c&quot;\\n  device: &quot;/device:CPU:0&quot;\\n  attr {\\n    key: &quot;T&quot;\\n    value {\\n      type: DT_FLOAT\\n    }\\n  }\\n}\\n';\n",
              "          }\n",
              "        </script>\n",
              "        <link rel=&quot;import&quot; href=&quot;https://tensorboard.appspot.com/tf-graph-basic.build.html&quot; onload=load()>\n",
              "        <div style=&quot;height:600px&quot;>\n",
              "          <tf-graph-basic id=&quot;graph0.458164052832&quot;></tf-graph-basic>\n",
              "        </div>\n",
              "    \"></iframe>\n",
              "    "
            ]
          },
          "metadata": {
            "tags": []
          }
        }
      ]
    },
    {
      "cell_type": "markdown",
      "metadata": {
        "id": "ERdpAqfm7G-V",
        "colab_type": "text"
      },
      "source": [
        "### Multiplication on GPU and CPU\n",
        "In teh following cell, we define a function, to measure the speed of matrix multiplication in CPU and GPU."
      ]
    },
    {
      "cell_type": "code",
      "metadata": {
        "button": false,
        "new_sheet": false,
        "run_control": {
          "read_only": false
        },
        "id": "mIOYUQxB7G-u",
        "colab_type": "code",
        "outputId": "5a211e11-7b85-4e7b-a494-91243aa1a661",
        "colab": {
          "base_uri": "https://localhost:8080/",
          "height": 387
        }
      },
      "source": [
        "def matrix_mul(device_name, matrix_sizes):\n",
        "    time_values = []\n",
        "    #device_name = \"/cpu:0\"\n",
        "    for size in matrix_sizes:\n",
        "        with tf.device(device_name):\n",
        "            random_matrix = tf.random_uniform(shape=(2,2), minval=0, maxval=1)\n",
        "            dot_operation = tf.matmul(random_matrix, tf.transpose(random_matrix))\n",
        "            sum_operation = tf.reduce_sum(dot_operation)\n",
        "\n",
        "        with tf.Session(config=tf.ConfigProto(log_device_placement=False)) as session:\n",
        "            startTime = datetime.now()\n",
        "            result = session.run(sum_operation)\n",
        "        td = datetime.now() - startTime\n",
        "        time_values.append(td.microseconds/1000)\n",
        "        print (\"matrix shape:\" + str(size) + \"  --\"+ device_name +\" time: \"+str(td.microseconds/1000))\n",
        "    return time_values\n",
        "\n",
        "\n",
        "matrix_sizes = range(100,1000,100)\n",
        "time_values_gpu = matrix_mul(\"/gpu:0\", matrix_sizes)\n",
        "time_values_cpu = matrix_mul(\"/cpu:0\", matrix_sizes)\n",
        "print (\"GPU time\" +  str(time_values_gpu))\n",
        "print (\"CPU time\" + str(time_values_cpu))\n",
        "\n"
      ],
      "execution_count": 6,
      "outputs": [
        {
          "output_type": "stream",
          "text": [
            "matrix shape:100  --/gpu:0 time: 678\n",
            "matrix shape:200  --/gpu:0 time: 6\n",
            "matrix shape:300  --/gpu:0 time: 7\n",
            "matrix shape:400  --/gpu:0 time: 7\n",
            "matrix shape:500  --/gpu:0 time: 6\n",
            "matrix shape:600  --/gpu:0 time: 6\n",
            "matrix shape:700  --/gpu:0 time: 4\n",
            "matrix shape:800  --/gpu:0 time: 7\n",
            "matrix shape:900  --/gpu:0 time: 7\n",
            "matrix shape:100  --/cpu:0 time: 13\n",
            "matrix shape:200  --/cpu:0 time: 7\n",
            "matrix shape:300  --/cpu:0 time: 8\n",
            "matrix shape:400  --/cpu:0 time: 8\n",
            "matrix shape:500  --/cpu:0 time: 8\n",
            "matrix shape:600  --/cpu:0 time: 7\n",
            "matrix shape:700  --/cpu:0 time: 7\n",
            "matrix shape:800  --/cpu:0 time: 15\n",
            "matrix shape:900  --/cpu:0 time: 8\n",
            "GPU time[678, 6, 7, 7, 6, 6, 4, 7, 7]\n",
            "CPU time[13, 7, 8, 8, 8, 7, 7, 15, 8]\n"
          ],
          "name": "stdout"
        }
      ]
    },
    {
      "cell_type": "markdown",
      "metadata": {
        "id": "gkeopoL47G_B",
        "colab_type": "text"
      },
      "source": [
        "Lets plot the results here. It clearly shows that GPU is faster than CPU"
      ]
    },
    {
      "cell_type": "code",
      "metadata": {
        "button": false,
        "new_sheet": false,
        "run_control": {
          "read_only": false
        },
        "id": "Yz1jBMF67G_D",
        "colab_type": "code",
        "outputId": "9999010f-722a-409c-87d3-54c8ff01d85e",
        "colab": {
          "base_uri": "https://localhost:8080/",
          "height": 283
        }
      },
      "source": [
        "%matplotlib inline\n",
        "import numpy as np\n",
        "import matplotlib.pyplot as plt\n",
        "plt.plot(matrix_sizes[:len(time_values_gpu)], time_values_gpu, label='GPU')\n",
        "plt.plot(matrix_sizes[:len(time_values_cpu)], time_values_cpu, label='CPU')\n",
        "plt.ylabel('Time (sec)')\n",
        "plt.xlabel('Size of Matrix ')\n",
        "plt.legend(loc='best')\n",
        "plt.show()"
      ],
      "execution_count": 7,
      "outputs": [
        {
          "output_type": "display_data",
          "data": {
            "image/png": "[encoded data removed]",
            "text/plain": [
              "<Figure size 432x288 with 1 Axes>"
            ]
          },
          "metadata": {
            "tags": []
          }
        }
      ]
    },
    {
      "cell_type": "markdown",
      "metadata": {
        "id": "FJYpBsRA7G_X",
        "colab_type": "text"
      },
      "source": [
        "#### When should not use GPU?\n",
        "\n",
        "GPUs don’t have direct access to the rest of your computer (except, of course for the display). Due to this, if you are running a command on a GPU, you need to copy all of the data to the GPU first, then do the operation, then copy the result back to your computer’s main memory. TensorFlow handles this under the hood, so the code is simple, but the work still needs to be performed.\n"
      ]
    },
    {
      "cell_type": "markdown",
      "metadata": {
        "id": "rfNDe-mQ7G_a",
        "colab_type": "text"
      },
      "source": [
        "## Want to learn more?\n",
        "\n",
        "Running deep learning programs usually needs a high performance platform. PowerAI speeds up deep learning and AI. Built on IBM's Power Systems, PowerAI is a scalable software platform that accelerates deep learning and AI with blazing performance for individual users or enterprises. The PowerAI platform supports popular machine learning libraries and dependencies including Tensorflow, Caffe, Torch, and Theano. You can download a [free version of PowerAI](https://cocl.us/DX0108EN-PowerAI)."
      ]
    },
    {
      "cell_type": "markdown",
      "metadata": {
        "id": "bgYmDe9d7G_d",
        "colab_type": "text"
      },
      "source": [
        "### Thanks for completing this lesson!\n",
        "\n",
        "\n",
        "<h3>Authors:</h3>\n",
        "<article class=\"teacher\">\n",
        "<div class=\"teacher-image\" style=\"    float: left;\n",
        "    width: 115px;\n",
        "    height: 115px;\n",
        "    margin-right: 10px;\n",
        "    margin-bottom: 10px;\n",
        "    border: 1px solid #CCC;\n",
        "    padding: 3px;\n",
        "    border-radius: 3px;\n",
        "    text-align: center;\"><img class=\"alignnone wp-image-2258 \" src=\"https://media.licdn.com/mpr/mpr/shrinknp_400_400/AAEAAQAAAAAAAAyFAAAAJGJlM2I2MmQzLTkxOWQtNDVhZi1hZGU0LWNlOWQzZDcyYjQ3ZA.jpg\" alt=\"Saeed Aghabozorgi\" width=\"178\" height=\"178\" /></div>\n",
        "<h4>Saeed Aghabozorgi</h4>\n",
        "<p><a href=\"https://ca.linkedin.com/in/saeedaghabozorgi\">Saeed Aghabozorgi</a>, PhD is a Data Scientist in IBM with a track record of developing enterprise level applications that substantially increases clients’ ability to turn data into actionable knowledge. He is a researcher in data mining field and expert in developing advanced analytic methods like machine learning and statistical modelling on large datasets.</p>\n",
        "</article>\n"
      ]
    },
    {
      "cell_type": "code",
      "metadata": {
        "id": "rHO0r9OE7G_k",
        "colab_type": "code",
        "colab": {}
      },
      "source": [
        ""
      ],
      "execution_count": 0,
      "outputs": []
    }
  ]
}